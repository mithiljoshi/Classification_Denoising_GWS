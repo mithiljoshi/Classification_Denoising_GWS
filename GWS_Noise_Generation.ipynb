{
  "nbformat": 4,
  "nbformat_minor": 0,
  "metadata": {
    "colab": {
      "name": "GWS Noise Generation.ipynb",
      "provenance": []
    },
    "kernelspec": {
      "display_name": "Python 3",
      "name": "python3"
    },
    "language_info": {
      "name": "python"
    }
  },
  "cells": [
    {
      "cell_type": "code",
      "metadata": {
        "colab": {
          "base_uri": "https://localhost:8080/"
        },
        "id": "GqavPKWQofrI",
        "outputId": "0b27bd11-633b-4dc0-8bdd-1d98c9550f9f"
      },
      "source": [
        "import sys\n",
        "!{sys.executable} -m pip install pycbc ligo-common --no-cache-dir"
      ],
      "execution_count": null,
      "outputs": [
        {
          "output_type": "stream",
          "name": "stdout",
          "text": [
            "Collecting pycbc\n",
            "  Downloading PyCBC-1.18.3-cp37-cp37m-manylinux2010_x86_64.whl (6.7 MB)\n",
            "\u001b[K     |████████████████████████████████| 6.7 MB 3.9 MB/s \n",
            "\u001b[?25hCollecting ligo-common\n",
            "  Downloading ligo_common-1.0.3-py2.py3-none-any.whl (2.0 kB)\n",
            "Requirement already satisfied: requests>=1.2.1 in /usr/local/lib/python3.7/dist-packages (from pycbc) (2.23.0)\n",
            "Requirement already satisfied: astropy!=4.0.5,!=4.2.1,>=2.0.3 in /usr/local/lib/python3.7/dist-packages (from pycbc) (4.3.1)\n",
            "Requirement already satisfied: pillow in /usr/local/lib/python3.7/dist-packages (from pycbc) (7.1.2)\n",
            "Requirement already satisfied: h5py>=2.5 in /usr/local/lib/python3.7/dist-packages (from pycbc) (3.1.0)\n",
            "Collecting Mako>=1.0.1\n",
            "  Downloading Mako-1.1.6-py2.py3-none-any.whl (75 kB)\n",
            "\u001b[K     |████████████████████████████████| 75 kB 48.1 MB/s \n",
            "\u001b[?25hCollecting mpld3>=0.3\n",
            "  Downloading mpld3-0.5.7-py3-none-any.whl (201 kB)\n",
            "\u001b[K     |████████████████████████████████| 201 kB 62.9 MB/s \n",
            "\u001b[?25hCollecting ligo-segments\n",
            "  Downloading ligo-segments-1.4.0.tar.gz (51 kB)\n",
            "\u001b[K     |████████████████████████████████| 51 kB 51.6 MB/s \n",
            "\u001b[?25hRequirement already satisfied: decorator>=3.4.2 in /usr/local/lib/python3.7/dist-packages (from pycbc) (4.4.2)\n",
            "Collecting lscsoft-glue>=1.59.3\n",
            "  Downloading lscsoft-glue-2.0.0.tar.gz (1.6 MB)\n",
            "\u001b[K     |████████████████████████████████| 1.6 MB 32.1 MB/s \n",
            "\u001b[?25hRequirement already satisfied: matplotlib>=1.5.1 in /usr/local/lib/python3.7/dist-packages (from pycbc) (3.2.2)\n",
            "Requirement already satisfied: jinja2 in /usr/local/lib/python3.7/dist-packages (from pycbc) (2.11.3)\n",
            "Requirement already satisfied: six>=1.10.0 in /usr/local/lib/python3.7/dist-packages (from pycbc) (1.15.0)\n",
            "Collecting lalsuite\n",
            "  Downloading lalsuite-7.1-cp37-cp37m-manylinux_2_17_x86_64.manylinux2014_x86_64.whl (27.4 MB)\n",
            "\u001b[K     |████████████████████████████████| 27.4 MB 1.2 MB/s \n",
            "\u001b[?25hRequirement already satisfied: numpy!=1.19.0,>=1.16.0 in /usr/local/lib/python3.7/dist-packages (from pycbc) (1.19.5)\n",
            "Requirement already satisfied: tqdm in /usr/local/lib/python3.7/dist-packages (from pycbc) (4.62.3)\n",
            "Requirement already satisfied: cython>=0.29 in /usr/local/lib/python3.7/dist-packages (from pycbc) (0.29.24)\n",
            "Collecting gwdatafind\n",
            "  Downloading gwdatafind-1.0.4-py2.py3-none-any.whl (38 kB)\n",
            "Requirement already satisfied: scipy>=0.16.0 in /usr/local/lib/python3.7/dist-packages (from pycbc) (1.4.1)\n",
            "Requirement already satisfied: beautifulsoup4>=4.6.0 in /usr/local/lib/python3.7/dist-packages (from pycbc) (4.6.3)\n",
            "Requirement already satisfied: importlib-metadata in /usr/local/lib/python3.7/dist-packages (from astropy!=4.0.5,!=4.2.1,>=2.0.3->pycbc) (4.8.2)\n",
            "Requirement already satisfied: pyerfa>=1.7.3 in /usr/local/lib/python3.7/dist-packages (from astropy!=4.0.5,!=4.2.1,>=2.0.3->pycbc) (2.0.0.1)\n",
            "Requirement already satisfied: cached-property in /usr/local/lib/python3.7/dist-packages (from h5py>=2.5->pycbc) (1.5.2)\n",
            "Collecting pyOpenSSL\n",
            "  Downloading pyOpenSSL-21.0.0-py2.py3-none-any.whl (55 kB)\n",
            "\u001b[K     |████████████████████████████████| 55 kB 47.3 MB/s \n",
            "\u001b[?25hRequirement already satisfied: MarkupSafe>=0.9.2 in /usr/local/lib/python3.7/dist-packages (from Mako>=1.0.1->pycbc) (2.0.1)\n",
            "Requirement already satisfied: python-dateutil>=2.1 in /usr/local/lib/python3.7/dist-packages (from matplotlib>=1.5.1->pycbc) (2.8.2)\n",
            "Requirement already satisfied: pyparsing!=2.0.4,!=2.1.2,!=2.1.6,>=2.0.1 in /usr/local/lib/python3.7/dist-packages (from matplotlib>=1.5.1->pycbc) (3.0.6)\n",
            "Requirement already satisfied: kiwisolver>=1.0.1 in /usr/local/lib/python3.7/dist-packages (from matplotlib>=1.5.1->pycbc) (1.3.2)\n",
            "Requirement already satisfied: cycler>=0.10 in /usr/local/lib/python3.7/dist-packages (from matplotlib>=1.5.1->pycbc) (0.11.0)\n",
            "Requirement already satisfied: chardet<4,>=3.0.2 in /usr/local/lib/python3.7/dist-packages (from requests>=1.2.1->pycbc) (3.0.4)\n",
            "Requirement already satisfied: certifi>=2017.4.17 in /usr/local/lib/python3.7/dist-packages (from requests>=1.2.1->pycbc) (2021.10.8)\n",
            "Requirement already satisfied: urllib3!=1.25.0,!=1.25.1,<1.26,>=1.21.1 in /usr/local/lib/python3.7/dist-packages (from requests>=1.2.1->pycbc) (1.24.3)\n",
            "Requirement already satisfied: idna<3,>=2.5 in /usr/local/lib/python3.7/dist-packages (from requests>=1.2.1->pycbc) (2.10)\n",
            "Requirement already satisfied: zipp>=0.5 in /usr/local/lib/python3.7/dist-packages (from importlib-metadata->astropy!=4.0.5,!=4.2.1,>=2.0.3->pycbc) (3.6.0)\n",
            "Requirement already satisfied: typing-extensions>=3.6.4 in /usr/local/lib/python3.7/dist-packages (from importlib-metadata->astropy!=4.0.5,!=4.2.1,>=2.0.3->pycbc) (3.10.0.2)\n",
            "Collecting cryptography>=3.3\n",
            "  Downloading cryptography-36.0.0-cp36-abi3-manylinux_2_24_x86_64.whl (3.6 MB)\n",
            "\u001b[K     |████████████████████████████████| 3.6 MB 51.2 MB/s \n",
            "\u001b[?25hRequirement already satisfied: cffi>=1.12 in /usr/local/lib/python3.7/dist-packages (from cryptography>=3.3->pyOpenSSL->lscsoft-glue>=1.59.3->pycbc) (1.15.0)\n",
            "Requirement already satisfied: pycparser in /usr/local/lib/python3.7/dist-packages (from cffi>=1.12->cryptography>=3.3->pyOpenSSL->lscsoft-glue>=1.59.3->pycbc) (2.21)\n",
            "Building wheels for collected packages: lscsoft-glue, ligo-segments\n",
            "  Building wheel for lscsoft-glue (setup.py) ... \u001b[?25l\u001b[?25hdone\n",
            "  Created wheel for lscsoft-glue: filename=lscsoft_glue-2.0.0-cp37-cp37m-linux_x86_64.whl size=416795 sha256=d62036f26385f993236281530003c8cc9deb3d86b4bbc49d44b39320053805d3\n",
            "  Stored in directory: /tmp/pip-ephem-wheel-cache-hzfky4wy/wheels/9d/ed/9e/1f9cad5e15359dc17954b893dd486760b5cb1ffd97a8405d1e\n",
            "  Building wheel for ligo-segments (setup.py) ... \u001b[?25l\u001b[?25hdone\n",
            "  Created wheel for ligo-segments: filename=ligo_segments-1.4.0-cp37-cp37m-linux_x86_64.whl size=86649 sha256=2bf3c0c9b42bb92d53eba198614a5115e5fe3143cec9da3c47d737255256d898\n",
            "  Stored in directory: /tmp/pip-ephem-wheel-cache-hzfky4wy/wheels/09/f9/d4/129b3bb4458d50b56fdc8245ace7c8216d54865fe8d3aebc05\n",
            "Successfully built lscsoft-glue ligo-segments\n",
            "Installing collected packages: cryptography, pyOpenSSL, ligo-segments, lscsoft-glue, mpld3, Mako, lalsuite, gwdatafind, pycbc, ligo-common\n",
            "Successfully installed Mako-1.1.6 cryptography-36.0.0 gwdatafind-1.0.4 lalsuite-7.1 ligo-common-1.0.3 ligo-segments-1.4.0 lscsoft-glue-2.0.0 mpld3-0.5.7 pyOpenSSL-21.0.0 pycbc-1.18.3\n"
          ]
        }
      ]
    },
    {
      "cell_type": "code",
      "metadata": {
        "id": "JQBB2qyXowFI"
      },
      "source": [
        "import numpy as np\n",
        "import math\n",
        "import pylab\n",
        "import matplotlib.pyplot as plt\n",
        "import random\n",
        "import pycbc\n",
        "from pycbc.psd import welch, interpolate\n",
        "from pycbc.psd import interpolate, inverse_spectrum_truncation\n",
        "from pycbc.noise.gaussian import noise_from_psd\n",
        "from pycbc.noise.gaussian import frequency_noise_from_psd\n",
        "from pycbc.filter import matched_filter\n",
        "\n",
        "\n",
        "\n",
        "N=2048*16  #N is number of samples, N=length/delta_t\n",
        "fs=2048 #fs is sampling frequnecy\n",
        "length=16 #duration of segment\n",
        "delta_f=1.0/16\n",
        "f_samples = 2048*16 +1\n",
        "f_lower=30\n",
        "delta_t=1.0/2048"
      ],
      "execution_count": null,
      "outputs": []
    },
    {
      "cell_type": "code",
      "metadata": {
        "id": "KQ3n3pu-owCP"
      },
      "source": [
        "from pycbc.psd.analytical import AdVDesignSensitivityP1200087\n",
        "\n",
        "def get_psd(f_samples, delta_f, low_freq_cutoff):\n",
        "    psd=AdVDesignSensitivityP1200087(f_samples, delta_f, low_freq_cutoff)\n",
        "    return psd\n",
        "\n",
        "from pycbc.noise.gaussian import frequency_noise_from_psd\n",
        "\n",
        "def get_noise(psd, seed=None):\n",
        "    noise=frequency_noise_from_psd(psd, seed=seed)\n",
        "    noise_time = noise.to_timeseries()\n",
        "    return noise_time"
      ],
      "execution_count": null,
      "outputs": []
    },
    {
      "cell_type": "code",
      "metadata": {
        "id": "EyDJYVefov_E"
      },
      "source": [
        "from pycbc.psd import welch, interpolate\n",
        "\n",
        "def get_whiten(signal_plus_noise):\n",
        "    signal_freq_series=signal_plus_noise.to_frequencyseries()\n",
        "    numerator = signal_freq_series\n",
        "    psd_to_whiten = interpolate(welch(signal_plus_noise), 1.0 / signal_plus_noise.duration)\n",
        "    denominator=np.sqrt(psd_to_whiten)\n",
        "    whiten_freq = (numerator / denominator)\n",
        "    whiten=whiten_freq.to_timeseries().highpass_fir(30., 512).lowpass_fir(300.0, 512)\n",
        "    return whiten\n",
        "\n",
        "def get_8s(whiten, signal_peak_index=None):\n",
        "    whiten.start_time = 0\n",
        "    cropped = whiten.time_slice(0,8)\n",
        "    return cropped\n",
        "\n",
        "psd=get_psd(f_samples, delta_f, f_lower)\n"
      ],
      "execution_count": null,
      "outputs": []
    },
    {
      "cell_type": "code",
      "metadata": {
        "id": "OM_VXWf902Y4"
      },
      "source": [
        "def NOISE_GENERATOR(samples):\n",
        "  for i in range(samples):\n",
        "    seed =  random.randint(1, 1000)\n",
        "    noise=get_noise(psd, seed)\n",
        "    whiten = get_whiten (noise)\n",
        "    noise_signal = get_8s(whiten)\n",
        "    # pylab.plot(noise_signal.sample_times, noise_signal)\n",
        "    # print(noise_signal[0])\n",
        "    my_dir = '/content/Negative Test DATA/' # write the file name in which you need to put the data\n",
        "    name = 101000000+i+1\n",
        "    np.save(my_dir + str(name), noise_signal)\n"
      ],
      "execution_count": null,
      "outputs": []
    },
    {
      "cell_type": "code",
      "metadata": {
        "id": "Rv0UxKBI1Hwt"
      },
      "source": [
        "NOISE_GENERATOR(4096)"
      ],
      "execution_count": null,
      "outputs": []
    },
    {
      "cell_type": "code",
      "metadata": {
        "colab": {
          "base_uri": "https://localhost:8080/",
          "height": 35
        },
        "id": "Ew1rUUSN1rsH",
        "outputId": "a899bd7e-1f12-4dc7-dfde-0ea54b8e6e5a"
      },
      "source": [
        "import shutil\n",
        "shutil.make_archive('/content/Negative_Test_DATA', 'zip', 'Negative Test DATA')"
      ],
      "execution_count": null,
      "outputs": [
        {
          "output_type": "execute_result",
          "data": {
            "application/vnd.google.colaboratory.intrinsic+json": {
              "type": "string"
            },
            "text/plain": [
              "'/content/Negative_Test_DATA.zip'"
            ]
          },
          "metadata": {},
          "execution_count": 17
        }
      ]
    },
    {
      "cell_type": "code",
      "metadata": {
        "id": "xkJ4NyOx1vrr"
      },
      "source": [
        "# ! unzip -q /content/Negative_Training_DATA.zip"
      ],
      "execution_count": null,
      "outputs": []
    },
    {
      "cell_type": "code",
      "metadata": {
        "colab": {
          "base_uri": "https://localhost:8080/",
          "height": 34
        },
        "id": "U_jxheXRT9KC",
        "outputId": "26c92fd1-fcba-43c8-9b91-eff960127631"
      },
      "source": [
        "# from google.colab import files\n",
        "# files.download('/content/Negative_Training_DATA.zip')"
      ],
      "execution_count": null,
      "outputs": [
        {
          "output_type": "display_data",
          "data": {
            "application/javascript": [
              "\n",
              "    async function download(id, filename, size) {\n",
              "      if (!google.colab.kernel.accessAllowed) {\n",
              "        return;\n",
              "      }\n",
              "      const div = document.createElement('div');\n",
              "      const label = document.createElement('label');\n",
              "      label.textContent = `Downloading \"${filename}\": `;\n",
              "      div.appendChild(label);\n",
              "      const progress = document.createElement('progress');\n",
              "      progress.max = size;\n",
              "      div.appendChild(progress);\n",
              "      document.body.appendChild(div);\n",
              "\n",
              "      const buffers = [];\n",
              "      let downloaded = 0;\n",
              "\n",
              "      const channel = await google.colab.kernel.comms.open(id);\n",
              "      // Send a message to notify the kernel that we're ready.\n",
              "      channel.send({})\n",
              "\n",
              "      for await (const message of channel.messages) {\n",
              "        // Send a message to notify the kernel that we're ready.\n",
              "        channel.send({})\n",
              "        if (message.buffers) {\n",
              "          for (const buffer of message.buffers) {\n",
              "            buffers.push(buffer);\n",
              "            downloaded += buffer.byteLength;\n",
              "            progress.value = downloaded;\n",
              "          }\n",
              "        }\n",
              "      }\n",
              "      const blob = new Blob(buffers, {type: 'application/binary'});\n",
              "      const a = document.createElement('a');\n",
              "      a.href = window.URL.createObjectURL(blob);\n",
              "      a.download = filename;\n",
              "      div.appendChild(a);\n",
              "      a.click();\n",
              "      div.remove();\n",
              "    }\n",
              "  "
            ],
            "text/plain": [
              "<IPython.core.display.Javascript object>"
            ]
          },
          "metadata": {}
        },
        {
          "output_type": "display_data",
          "data": {
            "application/javascript": [
              "download(\"download_c89e6301-94d6-42d8-b7da-6248c5e46cbc\", \"Negative_Training_DATA.zip\", 2067760052)"
            ],
            "text/plain": [
              "<IPython.core.display.Javascript object>"
            ]
          },
          "metadata": {}
        }
      ]
    },
    {
      "cell_type": "code",
      "metadata": {
        "colab": {
          "base_uri": "https://localhost:8080/"
        },
        "id": "rj6FAkpxSU9a",
        "outputId": "98b6287c-a2b5-41c1-e350-45aeb1fb36fb"
      },
      "source": [
        "from google.colab import drive\n",
        "drive.mount('/content/gdrive',force_remount=True)\n"
      ],
      "execution_count": null,
      "outputs": [
        {
          "output_type": "stream",
          "name": "stdout",
          "text": [
            "Mounted at /content/gdrive\n"
          ]
        }
      ]
    },
    {
      "cell_type": "code",
      "metadata": {
        "colab": {
          "base_uri": "https://localhost:8080/"
        },
        "id": "YAjSBmLmS3cH",
        "outputId": "d3e72c9e-f24c-4299-aeb9-dee4bb052cd0"
      },
      "source": [
        "!cp Negative_Test_DATA.zip '/content/gdrive/My Drive/'\n",
        "!ls -lt '/content/gdrive/My Drive/' "
      ],
      "execution_count": null,
      "outputs": [
        {
          "output_type": "stream",
          "name": "stdout",
          "text": [
            "total 2966806\n",
            "-rw------- 1 root root 1033877195 Dec  4 08:00  Negative_Test_DATA.zip\n",
            "-rw------- 1 root root  258469289 Dec  4 07:54  Negative_Validation_DATA.zip\n",
            "-rw------- 1 root root 1733558272 Dec  4 07:33  Negative_Training_DATA.zip\n",
            "-rw------- 1 root root        151 Nov 29 06:03 'Internship PPT.gslides'\n",
            "-rw------- 1 root root    7275567 Oct  2 19:09  submission_2.webm\n",
            "-rw------- 1 root root     801289 Oct  2 12:42  submission1.webm\n",
            "drwx------ 2 root root       4096 Oct  2 12:27  submission_1\n",
            "-rw------- 1 root root        151 Sep 26 07:39 'Masters Info.gslides'\n",
            "-rw------- 1 root root    1274470 Aug 17 17:28  Mithil_TeamA_Avionics.pdf\n",
            "-rw------- 1 root root    1274470 Aug 17 17:26  HPR_Recovery_System.pdf\n",
            "-rw------- 1 root root        151 Aug 17 07:32 'TPO TY 2018-22 EX.gsheet'\n",
            "-rw------- 1 root root    1461625 Aug 15 17:26 'Mithil_TeamA_Avionics (1).pdf'\n",
            "-rw------- 1 root root        151 Aug 10 07:34 'our product.pptm.gslides'\n",
            "drwx------ 2 root root       4096 Jun 29 15:25 'Colab Notebooks'\n",
            "drwx------ 2 root root       4096 Jun 22 14:18 'DSA C++'\n"
          ]
        }
      ]
    }
  ]
}