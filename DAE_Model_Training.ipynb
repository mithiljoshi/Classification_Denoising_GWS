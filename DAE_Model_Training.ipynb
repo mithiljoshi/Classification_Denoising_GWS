{
  "nbformat": 4,
  "nbformat_minor": 0,
  "metadata": {
    "colab": {
      "name": "DAE_Model_Training.ipynb",
      "provenance": [],
      "collapsed_sections": []
    },
    "kernelspec": {
      "name": "python3",
      "display_name": "Python 3"
    },
    "language_info": {
      "name": "python"
    },
    "accelerator": "GPU"
  },
  "cells": [
    {
      "cell_type": "code",
      "execution_count": null,
      "metadata": {
        "colab": {
          "base_uri": "https://localhost:8080/"
        },
        "id": "L0v6ORupKZfs",
        "outputId": "b86d2946-5fca-4796-ca43-a1ed015c218a"
      },
      "outputs": [
        {
          "output_type": "stream",
          "name": "stdout",
          "text": [
            "Mounted at /content/gdrive\n"
          ]
        }
      ],
      "source": [
        "from google.colab import drive\n",
        "drive.mount('/content/gdrive',force_remount=True)"
      ]
    },
    {
      "cell_type": "code",
      "source": [
        "import numpy as np\n",
        "import tensorflow \n",
        "from tensorflow.keras.layers import Dense, Flatten, MaxPooling1D, UpSampling1D\n",
        "from tensorflow.keras.models import Sequential\n",
        "from tensorflow.keras.layers import Conv1D, Dropout\n",
        "from tensorflow.keras.optimizers import Adam, RMSprop\n",
        "from tensorflow.keras.losses import BinaryCrossentropy\n",
        "from tensorflow.keras.metrics import binary_accuracy, AUC\n",
        "from sklearn.utils import shuffle\n",
        "from tensorflow.keras.layers import LSTM, RepeatVector, TimeDistributed, Bidirectional, Dropout, Activation\n",
        "from tensorflow.keras.constraints import max_norm\n",
        "from tensorflow.keras.optimizers import SGD\n",
        "from tensorflow.keras.optimizers import Adam"
      ],
      "metadata": {
        "id": "tvYbfoVIKivP"
      },
      "execution_count": null,
      "outputs": []
    },
    {
      "cell_type": "code",
      "source": [
        "def build_model():\n",
        "    # here layers is a list with 4 elements\n",
        "    \n",
        "    model = Sequential()\n",
        "    \n",
        "    model.add(Bidirectional(LSTM(256, \n",
        "        return_sequences = True)))\n",
        "    model.add(Dropout(0.2))\n",
        "    \n",
        "    # model.add(Bidirectional(LSTM(256, \n",
        "    #     return_sequences = True)))\n",
        "    # model.add(Dropout(0.2))\n",
        "    \n",
        "    model.add(Bidirectional(LSTM(16,\n",
        "        return_sequences = True)))\n",
        "    model.add(Dropout(0.2))\n",
        "    \n",
        "    model.add(Bidirectional(LSTM(1,\n",
        "        return_sequences = True)))\n",
        "    model.add(Dropout(0.2))\n",
        "    \n",
        "    model.add(Bidirectional(LSTM(16,\n",
        "        return_sequences = True)))\n",
        "    model.add(Dropout(0.2))\n",
        "    \n",
        "#     model.add(Bidirectional(LSTM(256,\n",
        "#         return_sequences = True)))\n",
        "#     model.add(Dropout(0.2))\n",
        "    \n",
        "    model.add(Bidirectional(LSTM(256, \n",
        "        return_sequences = False)))\n",
        "    model.add(Dropout(0.2))\n",
        "    \n",
        "\n",
        "    \n",
        "    model.add(Dense(512))\n",
        "    model.add(Activation(\"linear\"))\n",
        "    \n",
        "    model.compile(loss=\"mse\", optimizer=Adam(learning_rate=0.001,epsilon=1e-07))\n",
        "    \n",
        "    # try changing whether there is dropout, activation function, loss function, number of layers, in/out of layers\n",
        "    \n",
        "    return model"
      ],
      "metadata": {
        "id": "p-v5OVTgKqGp"
      },
      "execution_count": null,
      "outputs": []
    },
    {
      "cell_type": "code",
      "source": [
        "model = build_model()\n",
        "# model.summary()\n",
        "model.load_weights(\"/content/gdrive/MyDrive/DAE_GWS_2.ckpt\")\n"
      ],
      "metadata": {
        "id": "YBNoJ_9FLxyk",
        "colab": {
          "base_uri": "https://localhost:8080/"
        },
        "outputId": "ad80eb4d-0b53-4316-93d6-b1d884844e3f"
      },
      "execution_count": null,
      "outputs": [
        {
          "output_type": "execute_result",
          "data": {
            "text/plain": [
              "<tensorflow.python.training.tracking.util.CheckpointLoadStatus at 0x7f110c715c10>"
            ]
          },
          "metadata": {},
          "execution_count": 79
        }
      ]
    },
    {
      "cell_type": "code",
      "source": [
        "\n",
        "postrainsamples = 2000\n",
        "# negtrainsamples = 2560//4\n",
        "\n",
        "samples = postrainsamples #+ negtrainsamples\n",
        "print(samples)\n",
        "# number of batches\n",
        "# batch_looping_times = 256\n",
        "\n",
        "# number of samples in each batch\n",
        "# samples =  (negtrainsamples//batch_looping_times) + (postrainsamples//batch_looping_times)\n",
        "\n",
        "pure_training_data = np.load('/content/gdrive/MyDrive/Anagh_AE_Data_Share/pure_training_DATA_4.npy')\n",
        "noisy_training_data = np.load('/content/gdrive/MyDrive/Anagh_AE_Data_Share/noisy_training_DATA_4.npy')\n",
        "# neg_training_data = np.load('/content/gdrive/MyDrive/negative_training_DATA.npy')\n",
        "\n"
      ],
      "metadata": {
        "colab": {
          "base_uri": "https://localhost:8080/"
        },
        "id": "Eb_gF47iKu5l",
        "outputId": "a511fc55-a888-462a-87e3-4138319b08e1"
      },
      "execution_count": null,
      "outputs": [
        {
          "output_type": "stream",
          "name": "stdout",
          "text": [
            "2000\n"
          ]
        }
      ]
    },
    {
      "cell_type": "code",
      "source": [
        "X = noisy_training_data\n",
        "print(X.shape)\n",
        "\n",
        "Y=pure_training_data\n",
        "\n",
        "print(Y.shape)\n",
        "X = X[:samples]\n",
        "Y = Y[:samples]\n",
        "print(X.shape)\n",
        "print(Y.shape)\n",
        "X=X.reshape((samples,512,1))\n",
        "Y=Y.reshape((samples,512,1))\n",
        "print(X.shape)\n",
        "print(Y.shape)\n",
        "X, Y = shuffle(X, Y, random_state=103)"
      ],
      "metadata": {
        "colab": {
          "base_uri": "https://localhost:8080/"
        },
        "id": "xw-N_ipuK-81",
        "outputId": "82700e88-cd69-4d23-e99f-ba9ee5811ed7"
      },
      "execution_count": null,
      "outputs": [
        {
          "output_type": "stream",
          "name": "stdout",
          "text": [
            "(2000, 512)\n",
            "(2000, 512)\n",
            "(2000, 512)\n",
            "(2000, 512)\n",
            "(2000, 512, 1)\n",
            "(2000, 512, 1)\n"
          ]
        }
      ]
    },
    {
      "cell_type": "code",
      "source": [
        "index = 0\n",
        "batch_samples = 40\n",
        "def get_data():\n",
        "  global X\n",
        "  global Y\n",
        "  global index\n",
        "  global batch_samples\n",
        "  trainX = np.zeros((batch_samples, 512,1))\n",
        "  trainY = np.zeros((batch_samples, 512,1))\n",
        "  index = 0\n",
        "  while True:\n",
        "    for i in range(0,batch_samples):\n",
        "      trainX[i] = X[index+i]\n",
        "      trainY[i] = Y[index+i]\n",
        "    index = index+ batch_samples\n",
        "    if (index>= 1999):\n",
        "      index = 0\n",
        "    yield trainX, trainY"
      ],
      "metadata": {
        "id": "bL8_iwTZLBMy"
      },
      "execution_count": null,
      "outputs": []
    },
    {
      "cell_type": "code",
      "source": [
        "from tensorflow.keras.callbacks import ModelCheckpoint\n",
        "checkpoint_path = \"/content/gdrive/MyDrive/DAE_GWS_2.ckpt\"\n",
        "\n",
        "\n",
        "# Create a callback that saves the model's weights every 5 epochs\n",
        "cp_callback = ModelCheckpoint(\n",
        "    filepath=checkpoint_path, \n",
        "    verbose=0, \n",
        "    save_weights_only=True,\n",
        "    save_freq = 1)"
      ],
      "metadata": {
        "id": "sUGMwRQ-Lmls"
      },
      "execution_count": null,
      "outputs": []
    },
    {
      "cell_type": "code",
      "source": [
        "# from tensorflow.keras.callbacks import TensorBoard\n",
        "# import time\n",
        "\n",
        "# NAME =\"DAE_GWS_2\"\n",
        "# tensorboard = TensorBoard(log_dir ='/content/logs/{}'.format(NAME))"
      ],
      "metadata": {
        "id": "aUpaT6PcS3z2"
      },
      "execution_count": null,
      "outputs": []
    },
    {
      "cell_type": "code",
      "source": [
        "from tensorflow.keras.models import load_model\n",
        "def model_training():\n",
        "    global samples\n",
        "    global batch_samples\n",
        "    global model\n",
        "\n",
        "\n",
        "    model.fit(get_data() , epochs=10 , verbose = 1, steps_per_epoch = (samples//batch_samples), shuffle=\n",
        "                            True,batch_size=batch_samples , use_multiprocessing = True, callbacks=[cp_callback])\n",
        "    model.summary()\n",
        "    # model.save('/content/gdrive/MyDrive/DAE_GWS_1.h5')"
      ],
      "metadata": {
        "id": "k0gaFYyvLqh9"
      },
      "execution_count": null,
      "outputs": []
    },
    {
      "cell_type": "code",
      "source": [
        "model_training()"
      ],
      "metadata": {
        "colab": {
          "base_uri": "https://localhost:8080/"
        },
        "id": "1rZoHROYr6cw",
        "outputId": "7a697635-1880-4be9-a532-6c2560025a5b"
      },
      "execution_count": null,
      "outputs": [
        {
          "output_type": "stream",
          "name": "stdout",
          "text": [
            "Epoch 1/10\n",
            "50/50 [==============================] - 41s 511ms/step - loss: 0.1105\n",
            "Epoch 2/10\n",
            "50/50 [==============================] - 25s 502ms/step - loss: 0.0967\n",
            "Epoch 3/10\n",
            "50/50 [==============================] - 25s 509ms/step - loss: 0.0908\n",
            "Epoch 4/10\n",
            "50/50 [==============================] - 25s 510ms/step - loss: 0.0809\n",
            "Epoch 5/10\n",
            "50/50 [==============================] - 26s 511ms/step - loss: 0.0782\n",
            "Epoch 6/10\n",
            "50/50 [==============================] - 26s 511ms/step - loss: 0.0663\n",
            "Epoch 7/10\n",
            "50/50 [==============================] - 27s 532ms/step - loss: 0.0611\n",
            "Epoch 8/10\n",
            "50/50 [==============================] - 27s 539ms/step - loss: 0.0520\n",
            "Epoch 9/10\n",
            "50/50 [==============================] - 28s 555ms/step - loss: 0.0439\n",
            "Epoch 10/10\n",
            "50/50 [==============================] - 29s 572ms/step - loss: 0.0411\n",
            "Model: \"sequential_11\"\n",
            "_________________________________________________________________\n",
            " Layer (type)                Output Shape              Param #   \n",
            "=================================================================\n",
            " bidirectional_43 (Bidirecti  (None, None, 512)        528384    \n",
            " onal)                                                           \n",
            "                                                                 \n",
            " dropout_43 (Dropout)        (None, None, 512)         0         \n",
            "                                                                 \n",
            " bidirectional_44 (Bidirecti  (None, None, 32)         67712     \n",
            " onal)                                                           \n",
            "                                                                 \n",
            " dropout_44 (Dropout)        (None, None, 32)          0         \n",
            "                                                                 \n",
            " bidirectional_45 (Bidirecti  (None, None, 2)          272       \n",
            " onal)                                                           \n",
            "                                                                 \n",
            " dropout_45 (Dropout)        (None, None, 2)           0         \n",
            "                                                                 \n",
            " bidirectional_46 (Bidirecti  (None, None, 32)         2432      \n",
            " onal)                                                           \n",
            "                                                                 \n",
            " dropout_46 (Dropout)        (None, None, 32)          0         \n",
            "                                                                 \n",
            " bidirectional_47 (Bidirecti  (None, 512)              591872    \n",
            " onal)                                                           \n",
            "                                                                 \n",
            " dropout_47 (Dropout)        (None, 512)               0         \n",
            "                                                                 \n",
            " dense_11 (Dense)            (None, 512)               262656    \n",
            "                                                                 \n",
            " activation_11 (Activation)  (None, 512)               0         \n",
            "                                                                 \n",
            "=================================================================\n",
            "Total params: 1,453,328\n",
            "Trainable params: 1,453,328\n",
            "Non-trainable params: 0\n",
            "_________________________________________________________________\n"
          ]
        }
      ]
    },
    {
      "cell_type": "code",
      "source": [
        "# %load_ext tensorboard\n",
        "# %tensorboard --logdir '/content/logs/'"
      ],
      "metadata": {
        "id": "432UVmpEUWZ4"
      },
      "execution_count": null,
      "outputs": []
    },
    {
      "cell_type": "code",
      "source": [
        "model_training()"
      ],
      "metadata": {
        "colab": {
          "base_uri": "https://localhost:8080/"
        },
        "id": "LJcnOZG8aCag",
        "outputId": "87559410-91af-41bc-d973-c9bcf3f2eb75"
      },
      "execution_count": null,
      "outputs": [
        {
          "output_type": "stream",
          "name": "stdout",
          "text": [
            "Epoch 1/10\n",
            "50/50 [==============================] - 43s 532ms/step - loss: 0.0284\n",
            "Epoch 2/10\n",
            "50/50 [==============================] - 27s 545ms/step - loss: 0.0218\n",
            "Epoch 3/10\n",
            "50/50 [==============================] - 27s 540ms/step - loss: 0.0191\n",
            "Epoch 4/10\n",
            "50/50 [==============================] - 27s 540ms/step - loss: 0.0183\n",
            "Epoch 5/10\n",
            "50/50 [==============================] - 28s 559ms/step - loss: 0.0182\n",
            "Epoch 6/10\n",
            "50/50 [==============================] - 29s 582ms/step - loss: 0.0177\n",
            "Epoch 7/10\n",
            "50/50 [==============================] - 30s 607ms/step - loss: 0.0166\n",
            "Epoch 8/10\n",
            "50/50 [==============================] - 33s 653ms/step - loss: 0.0172\n",
            "Epoch 9/10\n",
            "50/50 [==============================] - 30s 600ms/step - loss: 0.0162\n",
            "Epoch 10/10\n",
            "50/50 [==============================] - 31s 630ms/step - loss: 0.0158\n",
            "Model: \"sequential_12\"\n",
            "_________________________________________________________________\n",
            " Layer (type)                Output Shape              Param #   \n",
            "=================================================================\n",
            " bidirectional_48 (Bidirecti  (None, None, 512)        528384    \n",
            " onal)                                                           \n",
            "                                                                 \n",
            " dropout_48 (Dropout)        (None, None, 512)         0         \n",
            "                                                                 \n",
            " bidirectional_49 (Bidirecti  (None, None, 32)         67712     \n",
            " onal)                                                           \n",
            "                                                                 \n",
            " dropout_49 (Dropout)        (None, None, 32)          0         \n",
            "                                                                 \n",
            " bidirectional_50 (Bidirecti  (None, None, 2)          272       \n",
            " onal)                                                           \n",
            "                                                                 \n",
            " dropout_50 (Dropout)        (None, None, 2)           0         \n",
            "                                                                 \n",
            " bidirectional_51 (Bidirecti  (None, None, 32)         2432      \n",
            " onal)                                                           \n",
            "                                                                 \n",
            " dropout_51 (Dropout)        (None, None, 32)          0         \n",
            "                                                                 \n",
            " bidirectional_52 (Bidirecti  (None, 512)              591872    \n",
            " onal)                                                           \n",
            "                                                                 \n",
            " dropout_52 (Dropout)        (None, 512)               0         \n",
            "                                                                 \n",
            " dense_12 (Dense)            (None, 512)               262656    \n",
            "                                                                 \n",
            " activation_12 (Activation)  (None, 512)               0         \n",
            "                                                                 \n",
            "=================================================================\n",
            "Total params: 1,453,328\n",
            "Trainable params: 1,453,328\n",
            "Non-trainable params: 0\n",
            "_________________________________________________________________\n"
          ]
        }
      ]
    },
    {
      "cell_type": "code",
      "source": [
        "# %load_ext tensorboard\n",
        "# %tensorboard --logdir '/content/logs/'"
      ],
      "metadata": {
        "id": "FpOui7LCVQa3"
      },
      "execution_count": null,
      "outputs": []
    },
    {
      "cell_type": "code",
      "source": [
        "model_training()\n"
      ],
      "metadata": {
        "colab": {
          "base_uri": "https://localhost:8080/"
        },
        "id": "RM2eVrF2L8zC",
        "outputId": "f465cfce-d3d9-48b9-cb9d-1a7a07f7124c"
      },
      "execution_count": null,
      "outputs": [
        {
          "output_type": "stream",
          "name": "stdout",
          "text": [
            "Epoch 1/10\n",
            "50/50 [==============================] - 23s 266ms/step - loss: 0.0089\n",
            "Epoch 2/10\n",
            "50/50 [==============================] - 14s 272ms/step - loss: 0.0074\n",
            "Epoch 3/10\n",
            "50/50 [==============================] - 14s 277ms/step - loss: 0.0072\n",
            "Epoch 4/10\n",
            "50/50 [==============================] - 14s 288ms/step - loss: 0.0072\n",
            "Epoch 5/10\n",
            "50/50 [==============================] - 16s 316ms/step - loss: 0.0072\n",
            "Epoch 6/10\n",
            "50/50 [==============================] - 18s 362ms/step - loss: 0.0070\n",
            "Epoch 7/10\n",
            "50/50 [==============================] - 20s 409ms/step - loss: 0.0072\n",
            "Epoch 8/10\n",
            "50/50 [==============================] - 21s 421ms/step - loss: 0.0071\n",
            "Epoch 9/10\n",
            "50/50 [==============================] - 24s 483ms/step - loss: 0.0071\n",
            "Epoch 10/10\n",
            "50/50 [==============================] - 24s 476ms/step - loss: 0.0072\n",
            "Model: \"sequential_4\"\n",
            "_________________________________________________________________\n",
            " Layer (type)                Output Shape              Param #   \n",
            "=================================================================\n",
            " bidirectional_12 (Bidirecti  (None, None, 128)        33792     \n",
            " onal)                                                           \n",
            "                                                                 \n",
            " dropout_12 (Dropout)        (None, None, 128)         0         \n",
            "                                                                 \n",
            " bidirectional_13 (Bidirecti  (None, None, 256)        263168    \n",
            " onal)                                                           \n",
            "                                                                 \n",
            " dropout_13 (Dropout)        (None, None, 256)         0         \n",
            "                                                                 \n",
            " bidirectional_14 (Bidirecti  (None, 128)              164352    \n",
            " onal)                                                           \n",
            "                                                                 \n",
            " dropout_14 (Dropout)        (None, 128)               0         \n",
            "                                                                 \n",
            " dense_4 (Dense)             (None, 512)               66048     \n",
            "                                                                 \n",
            " activation_4 (Activation)   (None, 512)               0         \n",
            "                                                                 \n",
            "=================================================================\n",
            "Total params: 527,360\n",
            "Trainable params: 527,360\n",
            "Non-trainable params: 0\n",
            "_________________________________________________________________\n"
          ]
        }
      ]
    },
    {
      "cell_type": "code",
      "source": [
        "model_training()"
      ],
      "metadata": {
        "colab": {
          "base_uri": "https://localhost:8080/"
        },
        "id": "0MC85eH5Viv2",
        "outputId": "6afb791e-51cf-44ff-a200-206845525f9e"
      },
      "execution_count": null,
      "outputs": [
        {
          "output_type": "stream",
          "name": "stdout",
          "text": [
            "Epoch 1/10\n",
            "50/50 [==============================] - 43s 555ms/step - loss: 0.0081\n",
            "Epoch 2/10\n",
            "50/50 [==============================] - 28s 562ms/step - loss: 0.0071\n",
            "Epoch 3/10\n",
            "50/50 [==============================] - 29s 579ms/step - loss: 0.0068\n",
            "Epoch 4/10\n",
            "50/50 [==============================] - 29s 575ms/step - loss: 0.0067\n",
            "Epoch 5/10\n",
            "50/50 [==============================] - 29s 589ms/step - loss: 0.0067\n",
            "Epoch 6/10\n",
            "50/50 [==============================] - 29s 579ms/step - loss: 0.0064\n",
            "Epoch 7/10\n",
            "50/50 [==============================] - 31s 626ms/step - loss: 0.0063\n",
            "Epoch 8/10\n",
            "50/50 [==============================] - 32s 639ms/step - loss: 0.0062\n",
            "Epoch 9/10\n",
            "50/50 [==============================] - 32s 640ms/step - loss: 0.0062\n",
            "Epoch 10/10\n",
            "50/50 [==============================] - 33s 668ms/step - loss: 0.0063\n",
            "Model: \"sequential_14\"\n",
            "_________________________________________________________________\n",
            " Layer (type)                Output Shape              Param #   \n",
            "=================================================================\n",
            " bidirectional_58 (Bidirecti  (None, None, 512)        528384    \n",
            " onal)                                                           \n",
            "                                                                 \n",
            " dropout_58 (Dropout)        (None, None, 512)         0         \n",
            "                                                                 \n",
            " bidirectional_59 (Bidirecti  (None, None, 32)         67712     \n",
            " onal)                                                           \n",
            "                                                                 \n",
            " dropout_59 (Dropout)        (None, None, 32)          0         \n",
            "                                                                 \n",
            " bidirectional_60 (Bidirecti  (None, None, 2)          272       \n",
            " onal)                                                           \n",
            "                                                                 \n",
            " dropout_60 (Dropout)        (None, None, 2)           0         \n",
            "                                                                 \n",
            " bidirectional_61 (Bidirecti  (None, None, 32)         2432      \n",
            " onal)                                                           \n",
            "                                                                 \n",
            " dropout_61 (Dropout)        (None, None, 32)          0         \n",
            "                                                                 \n",
            " bidirectional_62 (Bidirecti  (None, 512)              591872    \n",
            " onal)                                                           \n",
            "                                                                 \n",
            " dropout_62 (Dropout)        (None, 512)               0         \n",
            "                                                                 \n",
            " dense_14 (Dense)            (None, 512)               262656    \n",
            "                                                                 \n",
            " activation_14 (Activation)  (None, 512)               0         \n",
            "                                                                 \n",
            "=================================================================\n",
            "Total params: 1,453,328\n",
            "Trainable params: 1,453,328\n",
            "Non-trainable params: 0\n",
            "_________________________________________________________________\n"
          ]
        }
      ]
    },
    {
      "cell_type": "code",
      "source": [
        "model_training()"
      ],
      "metadata": {
        "colab": {
          "base_uri": "https://localhost:8080/"
        },
        "id": "nIXOZ8gAe9Vs",
        "outputId": "b5520594-fd5c-4941-c714-df1beb706b17"
      },
      "execution_count": null,
      "outputs": [
        {
          "output_type": "stream",
          "name": "stdout",
          "text": [
            "Epoch 1/10\n",
            "50/50 [==============================] - 46s 576ms/step - loss: 0.0024\n",
            "Epoch 2/10\n",
            "50/50 [==============================] - 30s 592ms/step - loss: 0.0018\n",
            "Epoch 3/10\n",
            "50/50 [==============================] - 31s 613ms/step - loss: 0.0017\n",
            "Epoch 4/10\n",
            "50/50 [==============================] - 30s 594ms/step - loss: 0.0017\n",
            "Epoch 5/10\n",
            "50/50 [==============================] - 32s 635ms/step - loss: 0.0017\n",
            "Epoch 6/10\n",
            "50/50 [==============================] - 33s 662ms/step - loss: 0.0017\n",
            "Epoch 7/10\n",
            "50/50 [==============================] - 36s 715ms/step - loss: 0.0017\n",
            "Epoch 8/10\n",
            "50/50 [==============================] - 40s 788ms/step - loss: 0.0016\n",
            "Epoch 9/10\n",
            "50/50 [==============================] - 36s 728ms/step - loss: 0.0017\n",
            "Epoch 10/10\n",
            "50/50 [==============================] - 40s 800ms/step - loss: 0.0016\n",
            "Model: \"sequential_15\"\n",
            "_________________________________________________________________\n",
            " Layer (type)                Output Shape              Param #   \n",
            "=================================================================\n",
            " bidirectional_63 (Bidirecti  (None, None, 512)        528384    \n",
            " onal)                                                           \n",
            "                                                                 \n",
            " dropout_63 (Dropout)        (None, None, 512)         0         \n",
            "                                                                 \n",
            " bidirectional_64 (Bidirecti  (None, None, 32)         67712     \n",
            " onal)                                                           \n",
            "                                                                 \n",
            " dropout_64 (Dropout)        (None, None, 32)          0         \n",
            "                                                                 \n",
            " bidirectional_65 (Bidirecti  (None, None, 2)          272       \n",
            " onal)                                                           \n",
            "                                                                 \n",
            " dropout_65 (Dropout)        (None, None, 2)           0         \n",
            "                                                                 \n",
            " bidirectional_66 (Bidirecti  (None, None, 32)         2432      \n",
            " onal)                                                           \n",
            "                                                                 \n",
            " dropout_66 (Dropout)        (None, None, 32)          0         \n",
            "                                                                 \n",
            " bidirectional_67 (Bidirecti  (None, 512)              591872    \n",
            " onal)                                                           \n",
            "                                                                 \n",
            " dropout_67 (Dropout)        (None, 512)               0         \n",
            "                                                                 \n",
            " dense_15 (Dense)            (None, 512)               262656    \n",
            "                                                                 \n",
            " activation_15 (Activation)  (None, 512)               0         \n",
            "                                                                 \n",
            "=================================================================\n",
            "Total params: 1,453,328\n",
            "Trainable params: 1,453,328\n",
            "Non-trainable params: 0\n",
            "_________________________________________________________________\n"
          ]
        }
      ]
    },
    {
      "cell_type": "code",
      "source": [
        "!mkdir -p /content/gdrive/MyDrive/\n",
        "model.save('/content/gdrive/MyDrive/DAE_GWS_2')"
      ],
      "metadata": {
        "colab": {
          "base_uri": "https://localhost:8080/"
        },
        "id": "q7qdcfh6hfgo",
        "outputId": "dfede5e1-2337-4aea-9c66-b2088ba3ebe9"
      },
      "execution_count": null,
      "outputs": [
        {
          "output_type": "stream",
          "name": "stderr",
          "text": [
            "WARNING:absl:Found untraced functions such as lstm_cell_190_layer_call_fn, lstm_cell_190_layer_call_and_return_conditional_losses, lstm_cell_191_layer_call_fn, lstm_cell_191_layer_call_and_return_conditional_losses, lstm_cell_193_layer_call_fn while saving (showing 5 of 20). These functions will not be directly callable after loading.\n"
          ]
        },
        {
          "output_type": "stream",
          "name": "stdout",
          "text": [
            "INFO:tensorflow:Assets written to: /content/gdrive/MyDrive/DAE_GWS_2/assets\n"
          ]
        },
        {
          "output_type": "stream",
          "name": "stderr",
          "text": [
            "INFO:tensorflow:Assets written to: /content/gdrive/MyDrive/DAE_GWS_2/assets\n",
            "WARNING:absl:<keras.layers.recurrent.LSTMCell object at 0x7f110efab110> has the same name 'LSTMCell' as a built-in Keras object. Consider renaming <class 'keras.layers.recurrent.LSTMCell'> to avoid naming conflicts when loading with `tf.keras.models.load_model`. If renaming is not possible, pass the object in the `custom_objects` parameter of the load function.\n",
            "WARNING:absl:<keras.layers.recurrent.LSTMCell object at 0x7f110ef91fd0> has the same name 'LSTMCell' as a built-in Keras object. Consider renaming <class 'keras.layers.recurrent.LSTMCell'> to avoid naming conflicts when loading with `tf.keras.models.load_model`. If renaming is not possible, pass the object in the `custom_objects` parameter of the load function.\n",
            "WARNING:absl:<keras.layers.recurrent.LSTMCell object at 0x7f110ef86210> has the same name 'LSTMCell' as a built-in Keras object. Consider renaming <class 'keras.layers.recurrent.LSTMCell'> to avoid naming conflicts when loading with `tf.keras.models.load_model`. If renaming is not possible, pass the object in the `custom_objects` parameter of the load function.\n",
            "WARNING:absl:<keras.layers.recurrent.LSTMCell object at 0x7f110ef9c350> has the same name 'LSTMCell' as a built-in Keras object. Consider renaming <class 'keras.layers.recurrent.LSTMCell'> to avoid naming conflicts when loading with `tf.keras.models.load_model`. If renaming is not possible, pass the object in the `custom_objects` parameter of the load function.\n",
            "WARNING:absl:<keras.layers.recurrent.LSTMCell object at 0x7f110efba2d0> has the same name 'LSTMCell' as a built-in Keras object. Consider renaming <class 'keras.layers.recurrent.LSTMCell'> to avoid naming conflicts when loading with `tf.keras.models.load_model`. If renaming is not possible, pass the object in the `custom_objects` parameter of the load function.\n",
            "WARNING:absl:<keras.layers.recurrent.LSTMCell object at 0x7f110ef93cd0> has the same name 'LSTMCell' as a built-in Keras object. Consider renaming <class 'keras.layers.recurrent.LSTMCell'> to avoid naming conflicts when loading with `tf.keras.models.load_model`. If renaming is not possible, pass the object in the `custom_objects` parameter of the load function.\n",
            "WARNING:absl:<keras.layers.recurrent.LSTMCell object at 0x7f110efb4b50> has the same name 'LSTMCell' as a built-in Keras object. Consider renaming <class 'keras.layers.recurrent.LSTMCell'> to avoid naming conflicts when loading with `tf.keras.models.load_model`. If renaming is not possible, pass the object in the `custom_objects` parameter of the load function.\n",
            "WARNING:absl:<keras.layers.recurrent.LSTMCell object at 0x7f110eff7650> has the same name 'LSTMCell' as a built-in Keras object. Consider renaming <class 'keras.layers.recurrent.LSTMCell'> to avoid naming conflicts when loading with `tf.keras.models.load_model`. If renaming is not possible, pass the object in the `custom_objects` parameter of the load function.\n",
            "WARNING:absl:<keras.layers.recurrent.LSTMCell object at 0x7f110ef8b5d0> has the same name 'LSTMCell' as a built-in Keras object. Consider renaming <class 'keras.layers.recurrent.LSTMCell'> to avoid naming conflicts when loading with `tf.keras.models.load_model`. If renaming is not possible, pass the object in the `custom_objects` parameter of the load function.\n",
            "WARNING:absl:<keras.layers.recurrent.LSTMCell object at 0x7f110efa45d0> has the same name 'LSTMCell' as a built-in Keras object. Consider renaming <class 'keras.layers.recurrent.LSTMCell'> to avoid naming conflicts when loading with `tf.keras.models.load_model`. If renaming is not possible, pass the object in the `custom_objects` parameter of the load function.\n"
          ]
        }
      ]
    },
    {
      "cell_type": "code",
      "source": [
        "new_model = tensorflow.keras.models.load_model('/content/gdrive/MyDrive/DAE_GWS_2')"
      ],
      "metadata": {
        "id": "s_Av3eKrh8Mx"
      },
      "execution_count": null,
      "outputs": []
    },
    {
      "cell_type": "code",
      "source": [
        "p = X[500]\n",
        "q = Y[500]\n",
        "# print(p)\n",
        "# print(q)\n",
        "\n",
        "import matplotlib.pyplot as plt\n",
        "\n",
        "plt.plot(range(0, len(p)), p)\n",
        "\n",
        "# plt.figure()\n",
        "plt.plot(range(0, len(p)), q)"
      ],
      "metadata": {
        "id": "pz1-OhMzMBOL",
        "colab": {
          "base_uri": "https://localhost:8080/",
          "height": 282
        },
        "outputId": "23856c19-84fd-494d-fe28-9e55f7364b4d"
      },
      "execution_count": null,
      "outputs": [
        {
          "output_type": "execute_result",
          "data": {
            "text/plain": [
              "[<matplotlib.lines.Line2D at 0x7f1105c1d6d0>]"
            ]
          },
          "metadata": {},
          "execution_count": 94
        },
        {
          "output_type": "display_data",
          "data": {
            "image/png": "[encoded data removed]",
            "text/plain": [
              "<Figure size 432x288 with 1 Axes>"
            ]
          },
          "metadata": {
            "needs_background": "light"
          }
        }
      ]
    },
    {
      "cell_type": "code",
      "source": [
        "p = p.reshape((1, 512, 1))\n",
        "s = model.predict(p)"
      ],
      "metadata": {
        "id": "F_P1F38cVZF2"
      },
      "execution_count": null,
      "outputs": []
    },
    {
      "cell_type": "code",
      "source": [
        "import matplotlib.pyplot as plt\n",
        "s = s.reshape((512,1))\n",
        "plt.plot(s)\n",
        "plt.plot(q)"
      ],
      "metadata": {
        "colab": {
          "base_uri": "https://localhost:8080/",
          "height": 282
        },
        "id": "i8EZDxLwVcON",
        "outputId": "3537a64b-6398-42ae-d031-3103e54ccb38"
      },
      "execution_count": null,
      "outputs": [
        {
          "output_type": "execute_result",
          "data": {
            "text/plain": [
              "[<matplotlib.lines.Line2D at 0x7f11039a8410>]"
            ]
          },
          "metadata": {},
          "execution_count": 96
        },
        {
          "output_type": "display_data",
          "data": {
            "image/png": "[encoded data removed]",
            "text/plain": [
              "<Figure size 432x288 with 1 Axes>"
            ]
          },
          "metadata": {
            "needs_background": "light"
          }
        }
      ]
    },
    {
      "cell_type": "code",
      "source": [
        ""
      ],
      "metadata": {
        "id": "LezpaJxcPkwQ"
      },
      "execution_count": null,
      "outputs": []
    }
  ]
}