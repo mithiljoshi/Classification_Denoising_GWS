{
  "nbformat": 4,
  "nbformat_minor": 0,
  "metadata": {
    "colab": {
      "name": "GWS DATA GENERATION.ipynb",
      "provenance": []
    },
    "kernelspec": {
      "name": "python3",
      "display_name": "Python 3"
    },
    "language_info": {
      "name": "python"
    },
    "accelerator": "GPU"
  },
  "cells": [
    {
      "cell_type": "code",
      "metadata": {
        "colab": {
          "base_uri": "https://localhost:8080/"
        },
        "id": "nzMwuHLI7EcA",
        "outputId": "6839d0ca-bb9f-4970-cc72-a2c0f2d90b83"
      },
      "source": [
        "import sys\n",
        "!{sys.executable} -m pip install pycbc ligo-common --no-cache-dir"
      ],
      "execution_count": null,
      "outputs": [
        {
          "output_type": "stream",
          "name": "stdout",
          "text": [
            "Collecting pycbc\n",
            "  Downloading PyCBC-1.18.3-cp37-cp37m-manylinux2010_x86_64.whl (6.7 MB)\n",
            "\u001b[K     |████████████████████████████████| 6.7 MB 5.3 MB/s \n",
            "\u001b[?25hCollecting ligo-common\n",
            "  Downloading ligo_common-1.0.3-py2.py3-none-any.whl (2.0 kB)\n",
            "Requirement already satisfied: jinja2 in /usr/local/lib/python3.7/dist-packages (from pycbc) (2.11.3)\n",
            "Requirement already satisfied: pillow in /usr/local/lib/python3.7/dist-packages (from pycbc) (7.1.2)\n",
            "Collecting ligo-segments\n",
            "  Downloading ligo-segments-1.4.0.tar.gz (51 kB)\n",
            "\u001b[K     |████████████████████████████████| 51 kB 46.0 MB/s \n",
            "\u001b[?25hCollecting Mako>=1.0.1\n",
            "  Downloading Mako-1.1.5-py2.py3-none-any.whl (75 kB)\n",
            "\u001b[K     |████████████████████████████████| 75 kB 42.2 MB/s \n",
            "\u001b[?25hRequirement already satisfied: decorator>=3.4.2 in /usr/local/lib/python3.7/dist-packages (from pycbc) (4.4.2)\n",
            "Requirement already satisfied: scipy>=0.16.0 in /usr/local/lib/python3.7/dist-packages (from pycbc) (1.4.1)\n",
            "Requirement already satisfied: cython>=0.29 in /usr/local/lib/python3.7/dist-packages (from pycbc) (0.29.24)\n",
            "Requirement already satisfied: numpy>=1.16.0 in /usr/local/lib/python3.7/dist-packages (from pycbc) (1.19.5)\n",
            "Requirement already satisfied: h5py>=2.5 in /usr/local/lib/python3.7/dist-packages (from pycbc) (3.1.0)\n",
            "Requirement already satisfied: requests>=1.2.1 in /usr/local/lib/python3.7/dist-packages (from pycbc) (2.23.0)\n",
            "Collecting lalsuite\n",
            "  Downloading lalsuite-7.0-cp37-cp37m-manylinux_2_17_x86_64.manylinux2014_x86_64.whl (27.6 MB)\n",
            "\u001b[K     |████████████████████████████████| 27.6 MB 1.4 MB/s \n",
            "\u001b[?25hRequirement already satisfied: beautifulsoup4>=4.6.0 in /usr/local/lib/python3.7/dist-packages (from pycbc) (4.6.3)\n",
            "Requirement already satisfied: astropy!=4.0.5,!=4.2.1,>=2.0.3 in /usr/local/lib/python3.7/dist-packages (from pycbc) (4.3.1)\n",
            "Collecting mpld3>=0.3\n",
            "  Downloading mpld3-0.5.5.tar.gz (1.0 MB)\n",
            "\u001b[K     |████████████████████████████████| 1.0 MB 36.7 MB/s \n",
            "\u001b[?25hCollecting lscsoft-glue>=1.59.3\n",
            "  Downloading lscsoft-glue-2.0.0.tar.gz (1.6 MB)\n",
            "\u001b[K     |████████████████████████████████| 1.6 MB 46.6 MB/s \n",
            "\u001b[?25hRequirement already satisfied: matplotlib>=1.5.1 in /usr/local/lib/python3.7/dist-packages (from pycbc) (3.2.2)\n",
            "Requirement already satisfied: tqdm in /usr/local/lib/python3.7/dist-packages (from pycbc) (4.62.3)\n",
            "Requirement already satisfied: six>=1.10.0 in /usr/local/lib/python3.7/dist-packages (from pycbc) (1.15.0)\n",
            "Collecting gwdatafind\n",
            "  Downloading gwdatafind-1.0.4-py2.py3-none-any.whl (38 kB)\n",
            "Requirement already satisfied: importlib-metadata in /usr/local/lib/python3.7/dist-packages (from astropy!=4.0.5,!=4.2.1,>=2.0.3->pycbc) (4.8.2)\n",
            "Requirement already satisfied: pyerfa>=1.7.3 in /usr/local/lib/python3.7/dist-packages (from astropy!=4.0.5,!=4.2.1,>=2.0.3->pycbc) (2.0.0.1)\n",
            "Requirement already satisfied: cached-property in /usr/local/lib/python3.7/dist-packages (from h5py>=2.5->pycbc) (1.5.2)\n",
            "Collecting pyOpenSSL\n",
            "  Downloading pyOpenSSL-21.0.0-py2.py3-none-any.whl (55 kB)\n",
            "\u001b[K     |████████████████████████████████| 55 kB 35.9 MB/s \n",
            "\u001b[?25hRequirement already satisfied: MarkupSafe>=0.9.2 in /usr/local/lib/python3.7/dist-packages (from Mako>=1.0.1->pycbc) (2.0.1)\n",
            "Requirement already satisfied: python-dateutil>=2.1 in /usr/local/lib/python3.7/dist-packages (from matplotlib>=1.5.1->pycbc) (2.8.2)\n",
            "Requirement already satisfied: pyparsing!=2.0.4,!=2.1.2,!=2.1.6,>=2.0.1 in /usr/local/lib/python3.7/dist-packages (from matplotlib>=1.5.1->pycbc) (2.4.7)\n",
            "Requirement already satisfied: cycler>=0.10 in /usr/local/lib/python3.7/dist-packages (from matplotlib>=1.5.1->pycbc) (0.11.0)\n",
            "Requirement already satisfied: kiwisolver>=1.0.1 in /usr/local/lib/python3.7/dist-packages (from matplotlib>=1.5.1->pycbc) (1.3.2)\n",
            "Requirement already satisfied: chardet<4,>=3.0.2 in /usr/local/lib/python3.7/dist-packages (from requests>=1.2.1->pycbc) (3.0.4)\n",
            "Requirement already satisfied: urllib3!=1.25.0,!=1.25.1,<1.26,>=1.21.1 in /usr/local/lib/python3.7/dist-packages (from requests>=1.2.1->pycbc) (1.24.3)\n",
            "Requirement already satisfied: certifi>=2017.4.17 in /usr/local/lib/python3.7/dist-packages (from requests>=1.2.1->pycbc) (2021.10.8)\n",
            "Requirement already satisfied: idna<3,>=2.5 in /usr/local/lib/python3.7/dist-packages (from requests>=1.2.1->pycbc) (2.10)\n",
            "Requirement already satisfied: typing-extensions>=3.6.4 in /usr/local/lib/python3.7/dist-packages (from importlib-metadata->astropy!=4.0.5,!=4.2.1,>=2.0.3->pycbc) (3.10.0.2)\n",
            "Requirement already satisfied: zipp>=0.5 in /usr/local/lib/python3.7/dist-packages (from importlib-metadata->astropy!=4.0.5,!=4.2.1,>=2.0.3->pycbc) (3.6.0)\n",
            "Collecting cryptography>=3.3\n",
            "  Downloading cryptography-35.0.0-cp36-abi3-manylinux_2_24_x86_64.whl (3.5 MB)\n",
            "\u001b[K     |████████████████████████████████| 3.5 MB 34.0 MB/s \n",
            "\u001b[?25hRequirement already satisfied: cffi>=1.12 in /usr/local/lib/python3.7/dist-packages (from cryptography>=3.3->pyOpenSSL->lscsoft-glue>=1.59.3->pycbc) (1.15.0)\n",
            "Requirement already satisfied: pycparser in /usr/local/lib/python3.7/dist-packages (from cffi>=1.12->cryptography>=3.3->pyOpenSSL->lscsoft-glue>=1.59.3->pycbc) (2.21)\n",
            "Building wheels for collected packages: lscsoft-glue, mpld3, ligo-segments\n",
            "  Building wheel for lscsoft-glue (setup.py) ... \u001b[?25l\u001b[?25hdone\n",
            "  Created wheel for lscsoft-glue: filename=lscsoft_glue-2.0.0-cp37-cp37m-linux_x86_64.whl size=416848 sha256=e8cdb9e5c4abbe904716c31b47faa57f1cace4ff9473d670ca7cc3ae16688313\n",
            "  Stored in directory: /tmp/pip-ephem-wheel-cache-n8djbevt/wheels/9d/ed/9e/1f9cad5e15359dc17954b893dd486760b5cb1ffd97a8405d1e\n",
            "  Building wheel for mpld3 (setup.py) ... \u001b[?25l\u001b[?25hdone\n",
            "  Created wheel for mpld3: filename=mpld3-0.5.5-py3-none-any.whl size=200907 sha256=5d29dcc15b7542c533adb3d26b73a2775aaa7333f6eb406057be4ca655694a67\n",
            "  Stored in directory: /tmp/pip-ephem-wheel-cache-n8djbevt/wheels/3b/f3/08/a11447ac4ea31d7603142e76b4cba9e48b2fa7d82b76b69731\n",
            "  Building wheel for ligo-segments (setup.py) ... \u001b[?25l\u001b[?25hdone\n",
            "  Created wheel for ligo-segments: filename=ligo_segments-1.4.0-cp37-cp37m-linux_x86_64.whl size=86664 sha256=ac70a69bfdcd6e04162c5bfbb2ca63a1ea0d5188c60ed8f63a6484dcb14f0b0d\n",
            "  Stored in directory: /tmp/pip-ephem-wheel-cache-n8djbevt/wheels/09/f9/d4/129b3bb4458d50b56fdc8245ace7c8216d54865fe8d3aebc05\n",
            "Successfully built lscsoft-glue mpld3 ligo-segments\n",
            "Installing collected packages: cryptography, pyOpenSSL, ligo-segments, lscsoft-glue, mpld3, Mako, lalsuite, gwdatafind, pycbc, ligo-common\n",
            "Successfully installed Mako-1.1.5 cryptography-35.0.0 gwdatafind-1.0.4 lalsuite-7.0 ligo-common-1.0.3 ligo-segments-1.4.0 lscsoft-glue-2.0.0 mpld3-0.5.5 pyOpenSSL-21.0.0 pycbc-1.18.3\n"
          ]
        }
      ]
    },
    {
      "cell_type": "code",
      "metadata": {
        "id": "kUXyxyJe7jaI"
      },
      "source": [
        "import numpy as np\n",
        "import math\n",
        "import pylab\n",
        "\n",
        "import matplotlib.pyplot as plt\n",
        "import random\n",
        "import pycbc\n",
        "from pycbc import distributions\n",
        "from pycbc.waveform import get_td_waveform\n",
        "from pycbc.detector import Detector\n",
        "import pycbc.coordinates as co\n",
        "from pycbc.psd import welch, interpolate\n",
        "from pycbc.psd import interpolate, inverse_spectrum_truncation\n",
        "from pycbc.noise.gaussian import noise_from_psd\n",
        "from pycbc.noise.gaussian import frequency_noise_from_psd\n",
        "from pycbc.filter import matched_filter\n",
        "\n",
        "det_l1 = Detector('L1')\n",
        "apx = 'SEOBNRv4'\n",
        "N=2048*16  #N is number of samples, N=length/delta_t\n",
        "fs=2048 #fs is sampling frequnecy\n",
        "length=16 #duration of segment\n",
        "delta_f=1.0/16\n",
        "f_samples = 16385\n",
        "f_lower=30\n",
        "delta_t=1.0/2048\n"
      ],
      "execution_count": null,
      "outputs": []
    },
    {
      "cell_type": "code",
      "metadata": {
        "id": "Vi83Xl9L77DJ"
      },
      "source": [
        "from pycbc.psd.analytical import AdVDesignSensitivityP1200087\n",
        "\n",
        "def get_psd(f_samples, delta_f, low_freq_cutoff):\n",
        "    psd=AdVDesignSensitivityP1200087(f_samples, delta_f, low_freq_cutoff)\n",
        "    return psd\n",
        "\n",
        "from pycbc.noise.gaussian import frequency_noise_from_psd\n",
        "\n",
        "def get_noise(psd, seed=None):\n",
        "    noise=frequency_noise_from_psd(psd, seed=seed)\n",
        "    noise_time = noise.to_timeseries()\n",
        "    return noise_time\n",
        "\n",
        "def add_noise_signal(noise, signal):\n",
        "    length_signal = len(signal)\n",
        "    signal_plus_noise=noise\n",
        "    signal_plus_noise[0:length_signal]=np.add(noise[0:length_signal], signal)\n",
        "    return signal_plus_noise\n",
        "\n",
        "\n",
        "from pycbc.psd import welch, interpolate\n",
        "\n",
        "def get_whiten(signal_plus_noise):\n",
        "    signal_freq_series=signal_plus_noise.to_frequencyseries()\n",
        "    numerator = signal_freq_series\n",
        "    psd_to_whiten = interpolate(welch(signal_plus_noise), 1.0 / signal_plus_noise.duration)\n",
        "    denominator=np.sqrt(psd_to_whiten)\n",
        "    whiten_freq = (numerator / denominator)\n",
        "    whiten=whiten_freq.to_timeseries().highpass_fir(30., 512).lowpass_fir(300.0, 512)\n",
        "    return whiten\n",
        "\n",
        "def get_8s(whiten, signal_peak_index=None):\n",
        "    whiten.start_time = 0\n",
        "    cropped = whiten.time_slice(0,8)\n",
        "    return cropped\n",
        "\n",
        "psd=get_psd(f_samples, delta_f, f_lower)\n",
        "\n",
        "def DISTRIBUTIONS(low, high, samples):\n",
        "    var_dist = distributions.Uniform(var = (low, high))\n",
        "    return var_dist.rvs(size = samples)\n",
        "\n",
        "def SPIN_DISTRIBUTIONS(samples):\n",
        "    theta_low = 0.\n",
        "    theta_high = 1.\n",
        "    phi_low = 0.\n",
        "    phi_high = 2.\n",
        "    uniform_solid_angle_distribution = distributions.UniformSolidAngle(polar_bounds=(theta_low,theta_high),\n",
        "                                              azimuthal_bounds=(phi_low,phi_high))\n",
        "    solid_angle_samples = uniform_solid_angle_distribution.rvs(size=samples)\n",
        "    spin_mag = np.ndarray(shape=(samples), dtype=float)\n",
        "    for i in range(0,samples):\n",
        "        spin_mag[i] = 1.\n",
        "    spinx, spiny, spinz = co.spherical_to_cartesian(spin_mag,solid_angle_samples['phi'],solid_angle_samples['theta'])\n",
        "    return spinz"
      ],
      "execution_count": null,
      "outputs": []
    },
    {
      "cell_type": "code",
      "metadata": {
        "id": "PZp1WVOv8dHZ"
      },
      "source": [
        "def DATA_GENERATION(samples):\n",
        "    mass1_samples = DISTRIBUTIONS(10, 80, samples)\n",
        "    mass2_samples = DISTRIBUTIONS(10, 80, samples)\n",
        "    right_ascension_samples  = DISTRIBUTIONS(0 , 2*math.pi, samples)\n",
        "    polarization_samples = DISTRIBUTIONS(0 , 2*math.pi, samples)\n",
        "    declination_samples = DISTRIBUTIONS((-math.pi/2)+0.0001, (math.pi/2)-0.0001, samples)\n",
        "    spinz1 = SPIN_DISTRIBUTIONS(samples)\n",
        "    spinz2 = SPIN_DISTRIBUTIONS(samples)\n",
        "    snr_req = DISTRIBUTIONS(2, 17, samples)\n",
        "    DIST = DISTRIBUTIONS(2500, 3000, samples)\n",
        "    for i in range(0,samples):\n",
        "        seed =  random.randint(1, 256)\n",
        "        # NOTE: Inclination runs from 0 to pi, with poles at 0 and pi\n",
        "        #       coa_phase runs from 0 to 2 pi.\n",
        "        hp, hc = get_td_waveform(approximant=apx,\n",
        "                                 mass1=mass1_samples[i][0],\n",
        "                                 mass2=mass2_samples[i][0],\n",
        "                                 spin1z=spinz1[i],\n",
        "                                 spin2z=spinz2[i],\n",
        "                                 delta_t=delta_t,\n",
        "                                 distance = DIST[i][0],\n",
        "                                 f_lower=30)\n",
        "        signal_l1 = det_l1.project_wave(hp, hc,  right_ascension_samples[i][0], declination_samples[i][0], polarization_samples[i][0])\n",
        "        signal_l1.append_zeros(12*2048)\n",
        "        signal_l1 = signal_l1.cyclic_time_shift(6)\n",
        "        signal_l1.start_time = 0 \n",
        "\n",
        "        noise=get_noise(psd)\n",
        "        final = add_noise_signal(noise, signal_l1)\n",
        "\n",
        "        hps=signal_l1\n",
        "        conditioned=final\n",
        "        hps.resize(len(conditioned))\n",
        "        template = hps.cyclic_time_shift(hps.start_time)\n",
        "        psd_whiten=interpolate(welch(conditioned), 1.0 / conditioned.duration)\n",
        "        snr = matched_filter(template, conditioned, psd=psd_whiten, low_frequency_cutoff=30, sigmasq = 1)\n",
        "        peak = abs(snr).numpy().argmax()\n",
        "        snrp = snr[peak]\n",
        "        time = snr.sample_times[peak]\n",
        "\n",
        "        signal_l1_scaled = signal_l1*snr_req[i][0] / abs(snrp) \n",
        "        final_scaled = add_noise_signal(noise, signal_l1_scaled)\n",
        "\n",
        "        whiten = get_whiten (final_scaled)\n",
        "        data = get_8s(whiten)\n",
        "        print(data)\n",
        "        pylab.plot(data.sample_times, data)\n",
        "\n",
        "        my_dir = '/content/Positive Training DATA/' # write the file name in which you need to put the data\n",
        "        name = 11100000+i+1+803\n",
        "        np.save(my_dir + str(name), data)\n"
      ],
      "execution_count": null,
      "outputs": []
    },
    {
      "cell_type": "code",
      "metadata": {
        "id": "YskQnvE88f_Y",
        "colab": {
          "base_uri": "https://localhost:8080/",
          "height": 298
        },
        "outputId": "d6f7e634-2c84-48ac-ccf0-f2732ee57f47"
      },
      "source": [
        "\n",
        "DATA_GENERATION(1)\n"
      ],
      "execution_count": null,
      "outputs": [
        {
          "output_type": "stream",
          "name": "stdout",
          "text": [
            "[-13.02259103 -18.83480434 -16.59707796 ...  -3.84791987  -1.8147049\n",
            "   1.27931471]\n"
          ]
        },
        {
          "output_type": "display_data",
          "data": {
            "image/png": "[encoded data removed]",
            "text/plain": [
              "<Figure size 432x288 with 1 Axes>"
            ]
          },
          "metadata": {
            "needs_background": "light"
          }
        }
      ]
    },
    {
      "cell_type": "code",
      "metadata": {
        "id": "LQRBlbNv8wn6",
        "colab": {
          "base_uri": "https://localhost:8080/",
          "height": 35
        },
        "outputId": "9df7bfe5-d516-4157-8d11-21f22a710f96"
      },
      "source": [
        "import shutil\n",
        "shutil.make_archive('/content/Positive Training DATA', 'zip', 'Positive Training DATA')\n"
      ],
      "execution_count": null,
      "outputs": [
        {
          "output_type": "execute_result",
          "data": {
            "application/vnd.google.colaboratory.intrinsic+json": {
              "type": "string"
            },
            "text/plain": [
              "'/content/Positive Training DATA.zip'"
            ]
          },
          "metadata": {},
          "execution_count": 37
        }
      ]
    },
    {
      "cell_type": "code",
      "metadata": {
        "colab": {
          "base_uri": "https://localhost:8080/"
        },
        "id": "3Q47xLRdBYp7",
        "outputId": "4b416f65-5f40-4703-e17e-3686cc7d83b0"
      },
      "source": [
        "! unzip -q /content/Positive Training DATA.zip"
      ],
      "execution_count": null,
      "outputs": [
        {
          "output_type": "stream",
          "name": "stdout",
          "text": [
            "unzip:  cannot find or open /content/Positive, /content/Positive.zip or /content/Positive.ZIP.\n"
          ]
        }
      ]
    },
    {
      "cell_type": "code",
      "metadata": {
        "id": "hapActzICUEi"
      },
      "source": [
        "\n"
      ],
      "execution_count": null,
      "outputs": []
    }
  ]
}