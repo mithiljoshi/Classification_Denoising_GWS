{
  "nbformat": 4,
  "nbformat_minor": 0,
  "metadata": {
    "colab": {
      "name": "Model_Test_Script.ipynb",
      "provenance": [],
      "collapsed_sections": []
    },
    "kernelspec": {
      "name": "python3",
      "display_name": "Python 3"
    },
    "language_info": {
      "name": "python"
    }
  },
  "cells": [
    {
      "cell_type": "code",
      "execution_count": null,
      "metadata": {
        "colab": {
          "base_uri": "https://localhost:8080/"
        },
        "id": "-07PaVBVaApb",
        "outputId": "120eaaaa-54a0-4ec4-cd34-a5ac1dbfa901"
      },
      "outputs": [
        {
          "output_type": "stream",
          "name": "stdout",
          "text": [
            "Mounted at /content/gdrive\n",
            "total 596513\n",
            "-rw------- 1 root root    941036 Mar 23 17:51  Mithil_joshi_181060032_NLP_LAB_6.pdf\n",
            "-rw------- 1 root root 501002212 Mar  6 06:16  VID20220305181136.mp4\n",
            "drwx------ 2 root root      4096 Mar  2 11:53 'Final Year sem VIII'\n",
            "drwx------ 2 root root      4096 Mar  2 08:48  NLP_Lab\n",
            "drwx------ 2 root root      4096 Feb 25 11:00 'FYP NBs'\n",
            "drwx------ 2 root root      4096 Feb 23 07:42  DAE_GWS_2\n",
            "-rw------- 1 root root        85 Feb 23 07:35  checkpoint\n",
            "-rw------- 1 root root      7331 Feb 23 07:35  DAE_GWS_2.ckpt.index\n",
            "-rw------- 1 root root  17460202 Feb 23 07:35  DAE_GWS_2.ckpt.data-00000-of-00001\n",
            "-rw------- 1 root root      7337 Feb 22 09:15  DAE_GWS_1.ckpt.index\n",
            "-rw------- 1 root root  17479973 Feb 22 09:15  DAE_GWS_1.ckpt.data-00000-of-00001\n",
            "-rw------- 1 root root  31457408 Feb 21 07:11  pure_training_DATA.npy\n",
            "-rw------- 1 root root  10485888 Feb 21 07:11  negative_training_DATA.npy\n",
            "-rw------- 1 root root  31457408 Feb 21 07:11  noisy_training_DATA.npy\n",
            "drwx------ 2 root root      4096 Feb 17 06:34  Anagh_AE_Data_Share\n",
            "drwx------ 2 root root      4096 Feb  9 10:54  GWS_DATA_ZIPS\n",
            "drwx------ 2 root root      4096 Feb  9 10:53  GWS_Classification_Models\n",
            "drwx------ 2 root root      4096 Feb  1 07:17  Positive_Training_DATA\n",
            "drwx------ 2 root root      4096 Jan 11 10:08  Positive_Validation_DATA\n",
            "drwx------ 2 root root      4096 Jan  6 08:07  Positive_Test_DATA\n",
            "drwx------ 2 root root      4096 Jan  6 06:20  Negative_Test_DATA\n",
            "drwx------ 2 root root      4096 Jan  6 06:18  Negative_Train_DATA\n",
            "drwx------ 2 root root      4096 Jan  5 14:34  Negative_Validation_DATA\n",
            "-rw------- 1 root root    464591 Dec 15 02:44 'Covid Vaccine Certificate.pdf'\n",
            "-rw------- 1 root root       143 Oct  1 16:36  POLESTAR.gsheet\n",
            "-rw------- 1 root root       143 Jul 19  2021 'TY Electronics Internship.gsheet'\n",
            "drwx------ 2 root root      4096 May 24  2021 'Colab Notebooks'\n",
            "-rw------- 1 root root       143 Apr 12  2021 'VJTI Cracking the Selection Process.gslides'\n",
            "drwx------ 2 root root      4096 Jul 31  2020  Classroom\n"
          ]
        }
      ],
      "source": [
        "from google.colab import drive\n",
        "drive.mount('/content/gdrive',force_remount=True)\n",
        "!ls -lt '/content/gdrive/My Drive/' \n",
        "import numpy as np\n",
        "import tensorflow as tf\n",
        "from tensorflow.keras.layers import Dense, Flatten, MaxPooling1D\n",
        "from tensorflow.keras.models import Sequential\n",
        "from tensorflow.keras.layers import Conv1D, Dropout\n",
        "from tensorflow.keras.optimizers import Adam, RMSprop\n",
        "from tensorflow.keras.losses import BinaryCrossentropy\n",
        "from tensorflow.keras.metrics import binary_accuracy, AUC\n",
        "from sklearn.utils import shuffle\n",
        "from keras.models import load_model"
      ]
    },
    {
      "cell_type": "code",
      "source": [
        "postestsamples = 12288\n",
        "negtestsamples = 4096\n",
        "\n",
        "test_samples = 16384\n",
        "test_X=np.load(\"/content/gdrive/MyDrive/FYP NBs/Re_Classification/Classification_Test_DATA.npy\")\n",
        "\n",
        "test_y = np.zeros((test_samples,1))\n",
        "test_y=np.concatenate((np.ones((postestsamples, 1)), np.zeros((negtestsamples, 1))))\n",
        "\n"
      ],
      "metadata": {
        "id": "AyrQApJSaIhL"
      },
      "execution_count": null,
      "outputs": []
    },
    {
      "cell_type": "code",
      "source": [
        "test_X = test_X.reshape((test_samples, 8192*2, 1))"
      ],
      "metadata": {
        "id": "qC7a8oswbMEr"
      },
      "execution_count": null,
      "outputs": []
    },
    {
      "cell_type": "code",
      "source": [
        "test_X, test_y = shuffle(test_X, test_y, random_state=127)"
      ],
      "metadata": {
        "id": "Bf5d25qbam3r"
      },
      "execution_count": null,
      "outputs": []
    },
    {
      "cell_type": "code",
      "source": [
        "def model_creation():\n",
        "  n_timesteps, n_features = 16384, 1\n",
        "  input_shape=(n_timesteps,n_features)\n",
        "  model=Sequential()\n",
        " \n",
        "  model.add(Conv1D(filters=8, kernel_size=8, activation='relu'))\n",
        "  # model.add(Conv1D(8, kernel_size=8, activation='relu'))\n",
        "  model.add(MaxPooling1D(pool_size=4))\n",
        " \n",
        "  model.add(Conv1D(16, kernel_size=8, activation='relu'))\n",
        "  # model.add(Conv1D(16, kernel_size=8, activation='relu'))\n",
        "  model.add(MaxPooling1D(pool_size=4))\n",
        " \n",
        "  model.add(Conv1D(32, kernel_size=8, activation='relu'))\n",
        "  # model.add(Conv1D(64, kernel_size=8, activation='relu'))\n",
        "  model.add(MaxPooling1D(pool_size=4))\n",
        " \n",
        "  # model.add(Conv1D(64, kernel_size=8, activation='relu'))\n",
        "  # model.add(Conv1D(128, kernel_size=8, activation='relu'))\n",
        "  # model.add(MaxPooling1D(pool_size=4))\n",
        " \n",
        "  model.add(Flatten())\n",
        "  # model.add(GlobalAveragePooling1D(data_format='channels_last'))\n",
        "  model.add(Dense(128, activation='relu'))\n",
        "  model.add(Dropout(0.3))\n",
        " \n",
        "  model.add(Dense(128, activation='relu'))\n",
        "  model.add(Dropout(0.3))\n",
        " \n",
        "  model.add(Dense(64, activation='relu'))\n",
        "  model.add(Dropout(0.3))\n",
        " \n",
        "  model.add(Dense(1, activation='sigmoid'))\n",
        " \n",
        "  model.compile(optimizer= Adam(learning_rate=0.002, beta_1=0.9, beta_2=0.999, epsilon=1e-08),\n",
        "                loss='binary_crossentropy',\n",
        "                metrics=['accuracy'])\n",
        "\n",
        "  return model"
      ],
      "metadata": {
        "id": "EfWWEwXLauPz"
      },
      "execution_count": null,
      "outputs": []
    },
    {
      "cell_type": "code",
      "source": [
        "model = model_creation()"
      ],
      "metadata": {
        "id": "eRuq9pN0ax5U"
      },
      "execution_count": null,
      "outputs": []
    },
    {
      "cell_type": "code",
      "source": [
        "model.load_weights(\"/content/gdrive/MyDrive/FYP NBs/Re_Classification/Re_BBH_Classification_1.ckpt\")"
      ],
      "metadata": {
        "colab": {
          "base_uri": "https://localhost:8080/"
        },
        "id": "rzXvrq6HazcY",
        "outputId": "65ef6e9e-82c4-4aaa-8c45-0c3c7eb2c7c0"
      },
      "execution_count": null,
      "outputs": [
        {
          "output_type": "execute_result",
          "data": {
            "text/plain": [
              "<tensorflow.python.training.tracking.util.CheckpointLoadStatus at 0x7fceedba3850>"
            ]
          },
          "metadata": {},
          "execution_count": 14
        }
      ]
    },
    {
      "cell_type": "code",
      "source": [
        "score = model.evaluate(test_X, test_y, verbose = 0) \n",
        "\n",
        "print('Test loss:', score[0]) \n",
        "print('Test accuracy:', score[1])"
      ],
      "metadata": {
        "colab": {
          "base_uri": "https://localhost:8080/"
        },
        "id": "djiwwStTbDdK",
        "outputId": "78caf1e1-d71a-45f4-b570-1b354501b3e0"
      },
      "execution_count": null,
      "outputs": [
        {
          "output_type": "stream",
          "name": "stdout",
          "text": [
            "Test loss: 0.10425035655498505\n",
            "Test accuracy: 0.96600341796875\n"
          ]
        }
      ]
    },
    {
      "cell_type": "code",
      "source": [
        "def model_creation():\n",
        "  n_timesteps, n_features = 16384, 1\n",
        "  input_shape=(n_timesteps,n_features)\n",
        "  model=Sequential()\n",
        " \n",
        "  model.add(Conv1D(filters=8, kernel_size=8, activation='relu'))\n",
        "  # model.add(Conv1D(8, kernel_size=8, activation='relu'))\n",
        "  model.add(MaxPooling1D(pool_size=4))\n",
        " \n",
        "  model.add(Conv1D(16, kernel_size=8, activation='relu'))\n",
        "  # model.add(Conv1D(16, kernel_size=8, activation='relu'))\n",
        "  model.add(MaxPooling1D(pool_size=4))\n",
        " \n",
        "  model.add(Conv1D(32, kernel_size=8, activation='relu'))\n",
        "  # model.add(Conv1D(64, kernel_size=8, activation='relu'))\n",
        "  model.add(MaxPooling1D(pool_size=4))\n",
        " \n",
        "  # model.add(Conv1D(64, kernel_size=8, activation='relu'))\n",
        "  # model.add(Conv1D(128, kernel_size=8, activation='relu'))\n",
        "  # model.add(MaxPooling1D(pool_size=4))\n",
        " \n",
        "  model.add(Flatten())\n",
        "  # model.add(GlobalAveragePooling1D(data_format='channels_last'))\n",
        "  model.add(Dense(128, activation='relu'))\n",
        "  model.add(Dropout(0.3))\n",
        " \n",
        "  model.add(Dense(128, activation='relu'))\n",
        "  model.add(Dropout(0.3))\n",
        " \n",
        "  model.add(Dense(64, activation='relu'))\n",
        "  model.add(Dropout(0.3))\n",
        "\n",
        "  model.add(Dense(64, activation='relu'))\n",
        "  model.add(Dropout(0.3))\n",
        " \n",
        "  model.add(Dense(1, activation='sigmoid'))\n",
        " \n",
        "  model.compile(optimizer= Adam(learning_rate=0.002, beta_1=0.9, beta_2=0.999, epsilon=1e-08),\n",
        "                loss='binary_crossentropy',\n",
        "                metrics=['accuracy'])\n",
        "\n",
        "  return model"
      ],
      "metadata": {
        "id": "rXLohynsbHOu"
      },
      "execution_count": null,
      "outputs": []
    },
    {
      "cell_type": "code",
      "source": [
        "model_2 = model_creation()"
      ],
      "metadata": {
        "id": "dZ_hA5xT904a"
      },
      "execution_count": null,
      "outputs": []
    },
    {
      "cell_type": "code",
      "source": [
        "model_2.load_weights(\"/content/gdrive/MyDrive/FYP NBs/Re_Classification/Re_BBH_Classification_2.ckpt\")"
      ],
      "metadata": {
        "colab": {
          "base_uri": "https://localhost:8080/"
        },
        "id": "0bjqwfVm95NS",
        "outputId": "8c88b529-6814-4992-e6b3-be95b723cc95"
      },
      "execution_count": null,
      "outputs": [
        {
          "output_type": "execute_result",
          "data": {
            "text/plain": [
              "<tensorflow.python.training.tracking.util.CheckpointLoadStatus at 0x7f0edfe6a590>"
            ]
          },
          "metadata": {},
          "execution_count": 14
        }
      ]
    },
    {
      "cell_type": "code",
      "source": [
        "score = model_2.evaluate(test_X, test_y, verbose = 0) \n",
        "\n",
        "print('Test loss:', score[0]) \n",
        "print('Test accuracy:', score[1])"
      ],
      "metadata": {
        "colab": {
          "base_uri": "https://localhost:8080/"
        },
        "id": "i7WfxpeY98Hv",
        "outputId": "f01bc5f8-e998-4692-b469-701647c4ea5c"
      },
      "execution_count": null,
      "outputs": [
        {
          "output_type": "stream",
          "name": "stdout",
          "text": [
            "Test loss: 0.1342875063419342\n",
            "Test accuracy: 0.97503662109375\n"
          ]
        }
      ]
    },
    {
      "cell_type": "code",
      "source": [
        ""
      ],
      "metadata": {
        "id": "lm3BDYHx-CFo"
      },
      "execution_count": null,
      "outputs": []
    }
  ]
}