{
  "nbformat": 4,
  "nbformat_minor": 0,
  "metadata": {
    "colab": {
      "name": "Experimentation.ipynb",
      "provenance": [],
      "collapsed_sections": []
    },
    "kernelspec": {
      "name": "python3",
      "display_name": "Python 3"
    },
    "language_info": {
      "name": "python"
    }
  },
  "cells": [
    {
      "cell_type": "code",
      "execution_count": null,
      "metadata": {
        "id": "bLuhBRrZPdvR"
      },
      "outputs": [],
      "source": [
        "# imports the PYCBC package\n",
        "import sys\n",
        "!{sys.executable} -m pip install pycbc ligo-common --no-cache-dir"
      ]
    },
    {
      "cell_type": "code",
      "source": [
        "# importing the necessary libraries & packages\n",
        "import numpy as np\n",
        "import math\n",
        "import pylab\n",
        "%matplotlib inline\n",
        "import matplotlib.pyplot as plt\n",
        "import random\n",
        "import pycbc\n",
        "from pycbc import distributions\n",
        "from pycbc.waveform import get_td_waveform\n",
        "from pycbc.detector import Detector\n",
        "import pycbc.coordinates as co\n",
        "from pycbc.psd import welch, interpolate\n",
        "from pycbc.psd import interpolate, inverse_spectrum_truncation\n",
        "from pycbc.noise.gaussian import noise_from_psd\n",
        "from pycbc.noise.gaussian import frequency_noise_from_psd\n",
        "from pycbc.filter import matched_filter"
      ],
      "metadata": {
        "id": "Nm774x_N6oLI"
      },
      "execution_count": null,
      "outputs": []
    },
    {
      "cell_type": "code",
      "source": [
        "snr_REQ = []"
      ],
      "metadata": {
        "id": "Pk3-u9N-Ml-B"
      },
      "execution_count": null,
      "outputs": []
    },
    {
      "cell_type": "code",
      "source": [
        "# establishing some parameters to generate the GWS\n",
        "\n",
        "det_l1 = Detector('L1') # name of detector from which the wave will be extracted: \n",
        "# L1: Livingston, H1: Hanford, V1: Virgo\n",
        "\n",
        "apx = 'IMRPhenomD' # mathematical approximation used to approx3imate the wave, \n",
        "# these are not real waves but only their simulation\n",
        "\n",
        "N=2048*16  #N is number of samples, N=length/delta_t == sampling freq * number of seconds\n",
        "fs=2048 #fs is sampling frequnecy\n",
        "length= N//fs #duration of segment == number of seconds\n",
        "delta_f= fs/N # a parameter to be defined so that it can be used for later functions\n",
        "f_samples = N//2 +1 # a parameter to be defined so that it can be used for later functions\n",
        "f_lower=50 # the frequency from which the gravitational wave will start, usually is kept to be 30Hz\n",
        "delta_t=1.0/2048 # (1/ sampling frequency)\n",
        "\n",
        "print(length, delta_f, f_samples, delta_t) # print to see if any discrepancies\n",
        "\n",
        "# incase of changes, only change N, fs, f_lower and delta_t...other parameters will get changed automatically\n",
        "# !!!! CAUTION - 64bit float values will be different for same operations so correct them\n",
        "\n",
        "# GENERATION OF WHITEN GAUSSIAN NOISE\n",
        "from pycbc.psd.analytical import AdVDesignSensitivityP1200087 # mathematical approx for noise\n",
        "\n",
        "# get power spectrum density for noise\n",
        "def get_psd(f_samples, delta_f, low_freq_cutoff):\n",
        "    psd=AdVDesignSensitivityP1200087(f_samples, delta_f, low_freq_cutoff)\n",
        "    return psd\n",
        "psd=get_psd(f_samples, delta_f, f_lower) # function called here\n",
        "\n",
        "# some basic signal processing operation applied on pure simulated wave to shift them between proper time interval\n",
        "def pure_signal_processing(signal):\n",
        "  signal.start_time = 0 # bring the signal to timestep 0\n",
        "  signal.append_zeros(4*2048) # appends zero at the sampling frequency rate at the end of signal\n",
        "  signal = signal.cyclic_time_shift(2) # cyclic shifts the signal as much by the parameter defined\n",
        "  signal.start_time = 0 \n",
        "  return signal\n",
        "\n",
        "# functions returns the time step at which the signal has highest amplitude\n",
        "def get_peak_time(signal):\n",
        "  peak = signal.numpy().argmax()\n",
        "  time = signal.sample_times[peak]\n",
        "  return time\n",
        "\n",
        "# extracts/crops 0.25 seconds of signal around the peak\n",
        "def get_025s(signal):\n",
        "    time = get_peak_time(signal) #get_peak time function called here\n",
        "    cropped = signal.time_slice(time-0.1875,time+0.0625) # crops the signal around the parameters specified\n",
        "                                                         # in this case the peak time\n",
        "    return cropped\n",
        "\n",
        "# GENERATION OF NOISE\n",
        "from pycbc.noise.gaussian import frequency_noise_from_psd\n",
        "# function uses inbuilt algo to generate noise using psd in freq domain\n",
        "def get_noise(psd, seed=None):\n",
        "    noise=frequency_noise_from_psd(psd, seed=seed)\n",
        "    noise_time = noise.to_timeseries() # converted to time domain so that we can add it to signal in time domain\n",
        "    return noise_time\n",
        "\n",
        "# adds the signal to noise\n",
        "def add_noise_signal(noise, signal):\n",
        "    noise.start_time = 0 # bring the initial points of both signal to 0 for coherency\n",
        "    signal.start_time = 0\n",
        "    length_signal = len(signal)\n",
        "    signal_plus_noise=noise\n",
        "    signal_plus_noise[0:length_signal]=np.add(noise[0:length_signal], signal) # adding signal to noise\n",
        "    return signal_plus_noise\n",
        "\n",
        "# finding the matched filtering SNR\n",
        "def SNR_MF(signal_fin, noise_fin):\n",
        "  noise_fin.start_time = 0\n",
        "  signal_fin.start_time = 0\n",
        "  hps=signal_fin\n",
        "  conditioned=noise_fin\n",
        "  hps.resize(len(conditioned))\n",
        "  template = hps.cyclic_time_shift(hps.start_time)\n",
        "  psd_whiten=interpolate(welch(conditioned), 1.0 / conditioned.duration)\n",
        "  snr = matched_filter(template, conditioned, psd=psd_whiten, low_frequency_cutoff=40, sigmasq = 1)\n",
        "  # pylab.figure(figsize=[10, 4])\n",
        "  # pylab.plot(snr.sample_times, abs(snr))\n",
        "  # pylab.ylabel('Signal-to-noise')\n",
        "  # pylab.xlabel('Time (s)')\n",
        "  # pylab.show()\n",
        "  peak = abs(snr).numpy().argmax()\n",
        "  snrp = snr[peak]\n",
        "  time = snr.sample_times[peak]\n",
        "  # print(time)\n",
        "  # print(\"We found a signal at {}s with SNR {}\".format(time, \n",
        "  #                                                     round(abs(snrp), 2)))\n",
        "  return round(abs(snrp),2), time\n",
        "\n",
        "# Scales the matched filtering SNR to our required SNR\n",
        "#in our project the req snr was in range (2,3,4,5....,17)\n",
        "def scale_SNR(signal, noise, snr_req):\n",
        "  noise.start_time = 0\n",
        "  signal.start_time = 0\n",
        "  snr,_ = SNR_MF(signal, noise) # matched filtering SNR function called here\n",
        "  signal = (signal/snr) * snr_req # basic scaling operation\n",
        "  # final = add_noise_signal(noise, signal)\n",
        "  return signal\n",
        "\n",
        "# WHITENING THE SIGNAL\n",
        "from pycbc.psd import welch, interpolate\n",
        "def get_whiten(signal_plus_noise):\n",
        "    signal_freq_series=signal_plus_noise.to_frequencyseries() # conversion to frequency domain\n",
        "    numerator = signal_freq_series\n",
        "    psd_to_whiten = interpolate(welch(signal_plus_noise), 1.0 / signal_plus_noise.duration) # mathematical operation of interpolation\n",
        "    denominator=np.sqrt(psd_to_whiten)\n",
        "    whiten_freq = (numerator / denominator)\n",
        "    whiten=whiten_freq.to_timeseries().highpass_fir(30., 512).lowpass_fir(300.0, 512) # applying filters and conerting to time domain\n",
        "    return whiten\n",
        "\n",
        "#GETS THE REQUIRED SIGNAL\n",
        "# this signal in whitened (noise+pure wave) signal\n",
        "def get_data(signal, corrupted): # signal = pure wave, corrupted = noise + pure wave\n",
        "  corrupted.start_time = 0\n",
        "  whiten = get_whiten (corrupted) # called whitening function here\n",
        "  _, time = SNR_MF(signal, whiten) # finds the peak of pure wave in the corrupted signal\n",
        "  # print(time)\n",
        "  data = whiten.time_slice(time-0.3, time+0.2) # slices 0.5s around the peak\n",
        "  data.start_time = 0\n",
        "  data = data/np.std(data) # normalizing the data \n",
        "  return data\n",
        "\n",
        "# Function for making uniform distrbution of various parameters for generation of waves\n",
        "def DISTRIBUTIONS(low, high, samples): # specify samples == number of waves to generate\n",
        "    var_dist = distributions.Uniform(var = (low, high)) # uniform distrubtion betwween lower & higher limits\n",
        "    return var_dist.rvs(size = samples)\n",
        "\n",
        "# same function as above but some extra parameters required\n",
        "def SPIN_DISTRIBUTIONS(samples):\n",
        "    theta_low = 0.\n",
        "    theta_high = 1.\n",
        "    phi_low = 0.\n",
        "    phi_high = 2.\n",
        "    uniform_solid_angle_distribution = distributions.UniformSolidAngle(polar_bounds=(theta_low,theta_high),\n",
        "                                              azimuthal_bounds=(phi_low,phi_high))\n",
        "    solid_angle_samples = uniform_solid_angle_distribution.rvs(size=samples)\n",
        "    spin_mag = np.ndarray(shape=(samples), dtype=float)\n",
        "    for i in range(0,samples):\n",
        "        spin_mag[i] = 1.\n",
        "    spinx, spiny, spinz = co.spherical_to_cartesian(spin_mag,solid_angle_samples['phi'],solid_angle_samples['theta'])\n",
        "    return spinz\n",
        "\n",
        "# FUNCTION to generate parameters for wave generation\n",
        "# samples= number of simulated wave to be generated\n",
        "def get_params(samples):\n",
        "    mass1_samples = DISTRIBUTIONS(10, 81, samples)\n",
        "    mass2_samples = DISTRIBUTIONS(10, 81, samples)\n",
        "    right_ascension_samples  = DISTRIBUTIONS(0 , 2*math.pi, samples)\n",
        "    polarization_samples = DISTRIBUTIONS(0 , 2*math.pi, samples)\n",
        "    declination_samples = DISTRIBUTIONS((-math.pi/2)+0.0001, (math.pi/2)-0.0001, samples)\n",
        "    spinz1 = SPIN_DISTRIBUTIONS(samples)\n",
        "    spinz2 = SPIN_DISTRIBUTIONS(samples)\n",
        "    snr_req = snr_REQ\n",
        "    print(snr_req)\n",
        "    # snr_req = np.int64(snr_req)\n",
        "    DIST = DISTRIBUTIONS(2500, 3000, samples)\n",
        "    return mass1_samples, mass2_samples, right_ascension_samples, polarization_samples, declination_samples, spinz1, spinz2, snr_req , DIST\n",
        "\n"
      ],
      "metadata": {
        "id": "CHzc8DT3PgQe"
      },
      "execution_count": null,
      "outputs": []
    },
    {
      "cell_type": "code",
      "source": [
        "samples = 1700 #number of samples\n",
        "pure_training_DATA = np.zeros((samples, 512)) # sample and length of sample in timesteps (freq * seconds)\n",
        "# pure = only pure gravitational wave\n",
        "# noisy = pure+noise\n",
        "noisy_training_DATA =  np.zeros((samples, 512))\n",
        "\n",
        "#initialises the global variables everytime because samples are generated in batches, so that there is no RAM overload\n",
        "def initialise():\n",
        "  global pure_training_DATA\n",
        "  global noisy_training_DATA \n",
        "  pure_training_DATA = np.zeros((samples, 512))\n",
        "  noisy_training_DATA  =  np.zeros((samples, 512))\n",
        "\n",
        "# batches are generated and saves\n",
        "# .npy is the extension used\n",
        "def save():\n",
        "  noisy_dir = '/content/noisy_test_DATA_mix_1' # write the file name in which you need to put the data\n",
        "  np.save(noisy_dir , noisy_training_DATA )\n",
        "  pure_dir = '/content/pure_test_DATA_mix_1' # write the file name in which you need to put the data\n",
        "  np.save(pure_dir , pure_training_DATA)"
      ],
      "metadata": {
        "id": "EaXKNDKW0-02"
      },
      "execution_count": null,
      "outputs": []
    },
    {
      "cell_type": "code",
      "source": [
        "# FUNCTION TO GENERATE THE SAMPLES\n",
        "# TO UNDERSTAND THE INBUILT FUNCTION USED CHECK DOCUMENTATION\n",
        "from astropy.coordinates.distances import Distance\n",
        "def DATA_GENERATION(samples):\n",
        "\n",
        "  initialise()\n",
        "  mass1_samples, mass2_samples, right_ascension_samples, polarization_samples, declination_samples, spinz1, spinz2, snr_req, DIST = get_params(samples)\n",
        "\n",
        "  for i in range(0,samples):\n",
        "        seed =  random.randint(1, 256)\n",
        "        # NOTE: Inclination runs from 0 to pi, with poles at 0 and pi\n",
        "        #       coa_phase runs from 0 to 2 pi.\n",
        "        hp, hc = get_td_waveform(approximant=apx,mass1=mass1_samples[i][0],mass2=mass2_samples[i][0],\n",
        "                                  spin1z=spinz1[i], spin2z=spinz2[i],\n",
        "                                  delta_t=delta_t, f_lower=30,  distance = DIST[i][0])\n",
        "\n",
        "        signal_l1 = det_l1.project_wave(hp, hc,  right_ascension_samples[i][0], declination_samples[i][0], polarization_samples[i][0])\n",
        "        signal_l1 = pure_signal_processing(signal_l1)\n",
        "      \n",
        "        \n",
        "\n",
        "        # pure_training_DATA[i] = signal_final\n",
        "        \n",
        "        noise=get_noise(psd)\n",
        "        whiten = get_whiten(noise)\n",
        "        whiten = whiten/np.std(whiten)\n",
        "\n",
        "\n",
        "        snr,time = SNR_MF(signal_l1, noise)\n",
        "        # print(time)\n",
        "        signal_l1 = (signal_l1/snr) * snr_req[i]\n",
        "        \n",
        "\n",
        "        signal_l1.start_time = 0\n",
        "        whiten.start_time = 0\n",
        "        signal_l1 = get_025s(signal_l1)\n",
        "        whiten_noise = whiten.time_slice(3,3+0.25)\n",
        "\n",
        "        signal_l1.start_time = 0\n",
        "        whiten_noise.start_time = 0\n",
        "        signal_final = signal_l1* (10**22)\n",
        "        data_final = add_noise_signal(whiten_noise, signal_final) \n",
        "\n",
        "        # pylab.figure()\n",
        "        # pylab.plot(data_final.sample_times, data_final)\n",
        "        # pylab.plot(signal_final.sample_times, signal_final)\n",
        "        # pylab.legend(('Noisy Signal', 'Pure Signal'))\n",
        "\n",
        "\n",
        "        # print(len(signal_final))\n",
        "        # print(len(data_final))\n",
        "        pure_training_DATA[i] = signal_final\n",
        "        noisy_training_DATA[i] = data_final\n",
        "\n",
        "  save()\n",
        "  print(\"done\")\n",
        "\n",
        "\n"
      ],
      "metadata": {
        "id": "4Cs6sqMoPrMm"
      },
      "execution_count": null,
      "outputs": []
    },
    {
      "cell_type": "code",
      "source": [
        "DATA_GENERATION(samples) #calling the above function here"
      ],
      "metadata": {
        "id": "X5uwA0l8-cOd",
        "colab": {
          "base_uri": "https://localhost:8080/"
        },
        "outputId": "fdf2b7e3-b2a0-46f0-873b-678164b0eafe"
      },
      "execution_count": null,
      "outputs": [
        {
          "output_type": "stream",
          "name": "stdout",
          "text": [
            "[0.5, 0.5, 0.5, 0.5, 0.5, 0.5, 0.5, 0.5, 0.5, 0.5, 0.5, 0.5, 0.5, 0.5, 0.5, 0.5, 0.5, 0.5, 0.5, 0.5, 0.5, 0.5, 0.5, 0.5, 0.5, 0.5, 0.5, 0.5, 0.5, 0.5, 0.5, 0.5, 0.5, 0.5, 0.5, 0.5, 0.5, 0.5, 0.5, 0.5, 0.5, 0.5, 0.5, 0.5, 0.5, 0.5, 0.5, 0.5, 0.5, 0.5, 1.0, 1.0, 1.0, 1.0, 1.0, 1.0, 1.0, 1.0, 1.0, 1.0, 1.0, 1.0, 1.0, 1.0, 1.0, 1.0, 1.0, 1.0, 1.0, 1.0, 1.0, 1.0, 1.0, 1.0, 1.0, 1.0, 1.0, 1.0, 1.0, 1.0, 1.0, 1.0, 1.0, 1.0, 1.0, 1.0, 1.0, 1.0, 1.0, 1.0, 1.0, 1.0, 1.0, 1.0, 1.0, 1.0, 1.0, 1.0, 1.0, 1.0, 1.5, 1.5, 1.5, 1.5, 1.5, 1.5, 1.5, 1.5, 1.5, 1.5, 1.5, 1.5, 1.5, 1.5, 1.5, 1.5, 1.5, 1.5, 1.5, 1.5, 1.5, 1.5, 1.5, 1.5, 1.5, 1.5, 1.5, 1.5, 1.5, 1.5, 1.5, 1.5, 1.5, 1.5, 1.5, 1.5, 1.5, 1.5, 1.5, 1.5, 1.5, 1.5, 1.5, 1.5, 1.5, 1.5, 1.5, 1.5, 1.5, 1.5, 2.0, 2.0, 2.0, 2.0, 2.0, 2.0, 2.0, 2.0, 2.0, 2.0, 2.0, 2.0, 2.0, 2.0, 2.0, 2.0, 2.0, 2.0, 2.0, 2.0, 2.0, 2.0, 2.0, 2.0, 2.0, 2.0, 2.0, 2.0, 2.0, 2.0, 2.0, 2.0, 2.0, 2.0, 2.0, 2.0, 2.0, 2.0, 2.0, 2.0, 2.0, 2.0, 2.0, 2.0, 2.0, 2.0, 2.0, 2.0, 2.0, 2.0, 2.5, 2.5, 2.5, 2.5, 2.5, 2.5, 2.5, 2.5, 2.5, 2.5, 2.5, 2.5, 2.5, 2.5, 2.5, 2.5, 2.5, 2.5, 2.5, 2.5, 2.5, 2.5, 2.5, 2.5, 2.5, 2.5, 2.5, 2.5, 2.5, 2.5, 2.5, 2.5, 2.5, 2.5, 2.5, 2.5, 2.5, 2.5, 2.5, 2.5, 2.5, 2.5, 2.5, 2.5, 2.5, 2.5, 2.5, 2.5, 2.5, 2.5, 3.0, 3.0, 3.0, 3.0, 3.0, 3.0, 3.0, 3.0, 3.0, 3.0, 3.0, 3.0, 3.0, 3.0, 3.0, 3.0, 3.0, 3.0, 3.0, 3.0, 3.0, 3.0, 3.0, 3.0, 3.0, 3.0, 3.0, 3.0, 3.0, 3.0, 3.0, 3.0, 3.0, 3.0, 3.0, 3.0, 3.0, 3.0, 3.0, 3.0, 3.0, 3.0, 3.0, 3.0, 3.0, 3.0, 3.0, 3.0, 3.0, 3.0, 3.5, 3.5, 3.5, 3.5, 3.5, 3.5, 3.5, 3.5, 3.5, 3.5, 3.5, 3.5, 3.5, 3.5, 3.5, 3.5, 3.5, 3.5, 3.5, 3.5, 3.5, 3.5, 3.5, 3.5, 3.5, 3.5, 3.5, 3.5, 3.5, 3.5, 3.5, 3.5, 3.5, 3.5, 3.5, 3.5, 3.5, 3.5, 3.5, 3.5, 3.5, 3.5, 3.5, 3.5, 3.5, 3.5, 3.5, 3.5, 3.5, 3.5, 4.0, 4.0, 4.0, 4.0, 4.0, 4.0, 4.0, 4.0, 4.0, 4.0, 4.0, 4.0, 4.0, 4.0, 4.0, 4.0, 4.0, 4.0, 4.0, 4.0, 4.0, 4.0, 4.0, 4.0, 4.0, 4.0, 4.0, 4.0, 4.0, 4.0, 4.0, 4.0, 4.0, 4.0, 4.0, 4.0, 4.0, 4.0, 4.0, 4.0, 4.0, 4.0, 4.0, 4.0, 4.0, 4.0, 4.0, 4.0, 4.0, 4.0, 4.5, 4.5, 4.5, 4.5, 4.5, 4.5, 4.5, 4.5, 4.5, 4.5, 4.5, 4.5, 4.5, 4.5, 4.5, 4.5, 4.5, 4.5, 4.5, 4.5, 4.5, 4.5, 4.5, 4.5, 4.5, 4.5, 4.5, 4.5, 4.5, 4.5, 4.5, 4.5, 4.5, 4.5, 4.5, 4.5, 4.5, 4.5, 4.5, 4.5, 4.5, 4.5, 4.5, 4.5, 4.5, 4.5, 4.5, 4.5, 4.5, 4.5, 5.0, 5.0, 5.0, 5.0, 5.0, 5.0, 5.0, 5.0, 5.0, 5.0, 5.0, 5.0, 5.0, 5.0, 5.0, 5.0, 5.0, 5.0, 5.0, 5.0, 5.0, 5.0, 5.0, 5.0, 5.0, 5.0, 5.0, 5.0, 5.0, 5.0, 5.0, 5.0, 5.0, 5.0, 5.0, 5.0, 5.0, 5.0, 5.0, 5.0, 5.0, 5.0, 5.0, 5.0, 5.0, 5.0, 5.0, 5.0, 5.0, 5.0, 5.5, 5.5, 5.5, 5.5, 5.5, 5.5, 5.5, 5.5, 5.5, 5.5, 5.5, 5.5, 5.5, 5.5, 5.5, 5.5, 5.5, 5.5, 5.5, 5.5, 5.5, 5.5, 5.5, 5.5, 5.5, 5.5, 5.5, 5.5, 5.5, 5.5, 5.5, 5.5, 5.5, 5.5, 5.5, 5.5, 5.5, 5.5, 5.5, 5.5, 5.5, 5.5, 5.5, 5.5, 5.5, 5.5, 5.5, 5.5, 5.5, 5.5, 6.0, 6.0, 6.0, 6.0, 6.0, 6.0, 6.0, 6.0, 6.0, 6.0, 6.0, 6.0, 6.0, 6.0, 6.0, 6.0, 6.0, 6.0, 6.0, 6.0, 6.0, 6.0, 6.0, 6.0, 6.0, 6.0, 6.0, 6.0, 6.0, 6.0, 6.0, 6.0, 6.0, 6.0, 6.0, 6.0, 6.0, 6.0, 6.0, 6.0, 6.0, 6.0, 6.0, 6.0, 6.0, 6.0, 6.0, 6.0, 6.0, 6.0, 6.5, 6.5, 6.5, 6.5, 6.5, 6.5, 6.5, 6.5, 6.5, 6.5, 6.5, 6.5, 6.5, 6.5, 6.5, 6.5, 6.5, 6.5, 6.5, 6.5, 6.5, 6.5, 6.5, 6.5, 6.5, 6.5, 6.5, 6.5, 6.5, 6.5, 6.5, 6.5, 6.5, 6.5, 6.5, 6.5, 6.5, 6.5, 6.5, 6.5, 6.5, 6.5, 6.5, 6.5, 6.5, 6.5, 6.5, 6.5, 6.5, 6.5, 7.0, 7.0, 7.0, 7.0, 7.0, 7.0, 7.0, 7.0, 7.0, 7.0, 7.0, 7.0, 7.0, 7.0, 7.0, 7.0, 7.0, 7.0, 7.0, 7.0, 7.0, 7.0, 7.0, 7.0, 7.0, 7.0, 7.0, 7.0, 7.0, 7.0, 7.0, 7.0, 7.0, 7.0, 7.0, 7.0, 7.0, 7.0, 7.0, 7.0, 7.0, 7.0, 7.0, 7.0, 7.0, 7.0, 7.0, 7.0, 7.0, 7.0, 7.5, 7.5, 7.5, 7.5, 7.5, 7.5, 7.5, 7.5, 7.5, 7.5, 7.5, 7.5, 7.5, 7.5, 7.5, 7.5, 7.5, 7.5, 7.5, 7.5, 7.5, 7.5, 7.5, 7.5, 7.5, 7.5, 7.5, 7.5, 7.5, 7.5, 7.5, 7.5, 7.5, 7.5, 7.5, 7.5, 7.5, 7.5, 7.5, 7.5, 7.5, 7.5, 7.5, 7.5, 7.5, 7.5, 7.5, 7.5, 7.5, 7.5, 8.0, 8.0, 8.0, 8.0, 8.0, 8.0, 8.0, 8.0, 8.0, 8.0, 8.0, 8.0, 8.0, 8.0, 8.0, 8.0, 8.0, 8.0, 8.0, 8.0, 8.0, 8.0, 8.0, 8.0, 8.0, 8.0, 8.0, 8.0, 8.0, 8.0, 8.0, 8.0, 8.0, 8.0, 8.0, 8.0, 8.0, 8.0, 8.0, 8.0, 8.0, 8.0, 8.0, 8.0, 8.0, 8.0, 8.0, 8.0, 8.0, 8.0, 8.5, 8.5, 8.5, 8.5, 8.5, 8.5, 8.5, 8.5, 8.5, 8.5, 8.5, 8.5, 8.5, 8.5, 8.5, 8.5, 8.5, 8.5, 8.5, 8.5, 8.5, 8.5, 8.5, 8.5, 8.5, 8.5, 8.5, 8.5, 8.5, 8.5, 8.5, 8.5, 8.5, 8.5, 8.5, 8.5, 8.5, 8.5, 8.5, 8.5, 8.5, 8.5, 8.5, 8.5, 8.5, 8.5, 8.5, 8.5, 8.5, 8.5, 9.0, 9.0, 9.0, 9.0, 9.0, 9.0, 9.0, 9.0, 9.0, 9.0, 9.0, 9.0, 9.0, 9.0, 9.0, 9.0, 9.0, 9.0, 9.0, 9.0, 9.0, 9.0, 9.0, 9.0, 9.0, 9.0, 9.0, 9.0, 9.0, 9.0, 9.0, 9.0, 9.0, 9.0, 9.0, 9.0, 9.0, 9.0, 9.0, 9.0, 9.0, 9.0, 9.0, 9.0, 9.0, 9.0, 9.0, 9.0, 9.0, 9.0, 9.5, 9.5, 9.5, 9.5, 9.5, 9.5, 9.5, 9.5, 9.5, 9.5, 9.5, 9.5, 9.5, 9.5, 9.5, 9.5, 9.5, 9.5, 9.5, 9.5, 9.5, 9.5, 9.5, 9.5, 9.5, 9.5, 9.5, 9.5, 9.5, 9.5, 9.5, 9.5, 9.5, 9.5, 9.5, 9.5, 9.5, 9.5, 9.5, 9.5, 9.5, 9.5, 9.5, 9.5, 9.5, 9.5, 9.5, 9.5, 9.5, 9.5, 10.0, 10.0, 10.0, 10.0, 10.0, 10.0, 10.0, 10.0, 10.0, 10.0, 10.0, 10.0, 10.0, 10.0, 10.0, 10.0, 10.0, 10.0, 10.0, 10.0, 10.0, 10.0, 10.0, 10.0, 10.0, 10.0, 10.0, 10.0, 10.0, 10.0, 10.0, 10.0, 10.0, 10.0, 10.0, 10.0, 10.0, 10.0, 10.0, 10.0, 10.0, 10.0, 10.0, 10.0, 10.0, 10.0, 10.0, 10.0, 10.0, 10.0, 10.5, 10.5, 10.5, 10.5, 10.5, 10.5, 10.5, 10.5, 10.5, 10.5, 10.5, 10.5, 10.5, 10.5, 10.5, 10.5, 10.5, 10.5, 10.5, 10.5, 10.5, 10.5, 10.5, 10.5, 10.5, 10.5, 10.5, 10.5, 10.5, 10.5, 10.5, 10.5, 10.5, 10.5, 10.5, 10.5, 10.5, 10.5, 10.5, 10.5, 10.5, 10.5, 10.5, 10.5, 10.5, 10.5, 10.5, 10.5, 10.5, 10.5, 11.0, 11.0, 11.0, 11.0, 11.0, 11.0, 11.0, 11.0, 11.0, 11.0, 11.0, 11.0, 11.0, 11.0, 11.0, 11.0, 11.0, 11.0, 11.0, 11.0, 11.0, 11.0, 11.0, 11.0, 11.0, 11.0, 11.0, 11.0, 11.0, 11.0, 11.0, 11.0, 11.0, 11.0, 11.0, 11.0, 11.0, 11.0, 11.0, 11.0, 11.0, 11.0, 11.0, 11.0, 11.0, 11.0, 11.0, 11.0, 11.0, 11.0, 11.5, 11.5, 11.5, 11.5, 11.5, 11.5, 11.5, 11.5, 11.5, 11.5, 11.5, 11.5, 11.5, 11.5, 11.5, 11.5, 11.5, 11.5, 11.5, 11.5, 11.5, 11.5, 11.5, 11.5, 11.5, 11.5, 11.5, 11.5, 11.5, 11.5, 11.5, 11.5, 11.5, 11.5, 11.5, 11.5, 11.5, 11.5, 11.5, 11.5, 11.5, 11.5, 11.5, 11.5, 11.5, 11.5, 11.5, 11.5, 11.5, 11.5, 12.0, 12.0, 12.0, 12.0, 12.0, 12.0, 12.0, 12.0, 12.0, 12.0, 12.0, 12.0, 12.0, 12.0, 12.0, 12.0, 12.0, 12.0, 12.0, 12.0, 12.0, 12.0, 12.0, 12.0, 12.0, 12.0, 12.0, 12.0, 12.0, 12.0, 12.0, 12.0, 12.0, 12.0, 12.0, 12.0, 12.0, 12.0, 12.0, 12.0, 12.0, 12.0, 12.0, 12.0, 12.0, 12.0, 12.0, 12.0, 12.0, 12.0, 12.5, 12.5, 12.5, 12.5, 12.5, 12.5, 12.5, 12.5, 12.5, 12.5, 12.5, 12.5, 12.5, 12.5, 12.5, 12.5, 12.5, 12.5, 12.5, 12.5, 12.5, 12.5, 12.5, 12.5, 12.5, 12.5, 12.5, 12.5, 12.5, 12.5, 12.5, 12.5, 12.5, 12.5, 12.5, 12.5, 12.5, 12.5, 12.5, 12.5, 12.5, 12.5, 12.5, 12.5, 12.5, 12.5, 12.5, 12.5, 12.5, 12.5, 13.0, 13.0, 13.0, 13.0, 13.0, 13.0, 13.0, 13.0, 13.0, 13.0, 13.0, 13.0, 13.0, 13.0, 13.0, 13.0, 13.0, 13.0, 13.0, 13.0, 13.0, 13.0, 13.0, 13.0, 13.0, 13.0, 13.0, 13.0, 13.0, 13.0, 13.0, 13.0, 13.0, 13.0, 13.0, 13.0, 13.0, 13.0, 13.0, 13.0, 13.0, 13.0, 13.0, 13.0, 13.0, 13.0, 13.0, 13.0, 13.0, 13.0, 13.5, 13.5, 13.5, 13.5, 13.5, 13.5, 13.5, 13.5, 13.5, 13.5, 13.5, 13.5, 13.5, 13.5, 13.5, 13.5, 13.5, 13.5, 13.5, 13.5, 13.5, 13.5, 13.5, 13.5, 13.5, 13.5, 13.5, 13.5, 13.5, 13.5, 13.5, 13.5, 13.5, 13.5, 13.5, 13.5, 13.5, 13.5, 13.5, 13.5, 13.5, 13.5, 13.5, 13.5, 13.5, 13.5, 13.5, 13.5, 13.5, 13.5, 14.0, 14.0, 14.0, 14.0, 14.0, 14.0, 14.0, 14.0, 14.0, 14.0, 14.0, 14.0, 14.0, 14.0, 14.0, 14.0, 14.0, 14.0, 14.0, 14.0, 14.0, 14.0, 14.0, 14.0, 14.0, 14.0, 14.0, 14.0, 14.0, 14.0, 14.0, 14.0, 14.0, 14.0, 14.0, 14.0, 14.0, 14.0, 14.0, 14.0, 14.0, 14.0, 14.0, 14.0, 14.0, 14.0, 14.0, 14.0, 14.0, 14.0, 14.5, 14.5, 14.5, 14.5, 14.5, 14.5, 14.5, 14.5, 14.5, 14.5, 14.5, 14.5, 14.5, 14.5, 14.5, 14.5, 14.5, 14.5, 14.5, 14.5, 14.5, 14.5, 14.5, 14.5, 14.5, 14.5, 14.5, 14.5, 14.5, 14.5, 14.5, 14.5, 14.5, 14.5, 14.5, 14.5, 14.5, 14.5, 14.5, 14.5, 14.5, 14.5, 14.5, 14.5, 14.5, 14.5, 14.5, 14.5, 14.5, 14.5, 15.0, 15.0, 15.0, 15.0, 15.0, 15.0, 15.0, 15.0, 15.0, 15.0, 15.0, 15.0, 15.0, 15.0, 15.0, 15.0, 15.0, 15.0, 15.0, 15.0, 15.0, 15.0, 15.0, 15.0, 15.0, 15.0, 15.0, 15.0, 15.0, 15.0, 15.0, 15.0, 15.0, 15.0, 15.0, 15.0, 15.0, 15.0, 15.0, 15.0, 15.0, 15.0, 15.0, 15.0, 15.0, 15.0, 15.0, 15.0, 15.0, 15.0, 15.5, 15.5, 15.5, 15.5, 15.5, 15.5, 15.5, 15.5, 15.5, 15.5, 15.5, 15.5, 15.5, 15.5, 15.5, 15.5, 15.5, 15.5, 15.5, 15.5, 15.5, 15.5, 15.5, 15.5, 15.5, 15.5, 15.5, 15.5, 15.5, 15.5, 15.5, 15.5, 15.5, 15.5, 15.5, 15.5, 15.5, 15.5, 15.5, 15.5, 15.5, 15.5, 15.5, 15.5, 15.5, 15.5, 15.5, 15.5, 15.5, 15.5, 16.0, 16.0, 16.0, 16.0, 16.0, 16.0, 16.0, 16.0, 16.0, 16.0, 16.0, 16.0, 16.0, 16.0, 16.0, 16.0, 16.0, 16.0, 16.0, 16.0, 16.0, 16.0, 16.0, 16.0, 16.0, 16.0, 16.0, 16.0, 16.0, 16.0, 16.0, 16.0, 16.0, 16.0, 16.0, 16.0, 16.0, 16.0, 16.0, 16.0, 16.0, 16.0, 16.0, 16.0, 16.0, 16.0, 16.0, 16.0, 16.0, 16.0, 16.5, 16.5, 16.5, 16.5, 16.5, 16.5, 16.5, 16.5, 16.5, 16.5, 16.5, 16.5, 16.5, 16.5, 16.5, 16.5, 16.5, 16.5, 16.5, 16.5, 16.5, 16.5, 16.5, 16.5, 16.5, 16.5, 16.5, 16.5, 16.5, 16.5, 16.5, 16.5, 16.5, 16.5, 16.5, 16.5, 16.5, 16.5, 16.5, 16.5, 16.5, 16.5, 16.5, 16.5, 16.5, 16.5, 16.5, 16.5, 16.5, 16.5, 17.0, 17.0, 17.0, 17.0, 17.0, 17.0, 17.0, 17.0, 17.0, 17.0, 17.0, 17.0, 17.0, 17.0, 17.0, 17.0, 17.0, 17.0, 17.0, 17.0, 17.0, 17.0, 17.0, 17.0, 17.0, 17.0, 17.0, 17.0, 17.0, 17.0, 17.0, 17.0, 17.0, 17.0, 17.0, 17.0, 17.0, 17.0, 17.0, 17.0, 17.0, 17.0, 17.0, 17.0, 17.0, 17.0, 17.0, 17.0, 17.0, 17.0]\n",
            "done\n"
          ]
        }
      ]
    },
    {
      "cell_type": "code",
      "source": [
        "# import the drive to store the samples\n",
        "from google.colab import drive\n",
        "drive.mount('/content/gdrive',force_remount=True)"
      ],
      "metadata": {
        "id": "-RSWUyHiHMrk",
        "colab": {
          "base_uri": "https://localhost:8080/"
        },
        "outputId": "89149c80-d91a-4daa-ecdc-811b6f2bb8d5"
      },
      "execution_count": null,
      "outputs": [
        {
          "output_type": "stream",
          "name": "stdout",
          "text": [
            "Mounted at /content/gdrive\n"
          ]
        }
      ]
    },
    {
      "cell_type": "code",
      "source": [
        "\n",
        "!cp noisy_test_DATA_mix_1.npy '/content/gdrive/My Drive/Anagh_AE_Data_Share/'\n",
        "!cp pure_test_DATA_mix_1.npy '/content/gdrive/My Drive/Anagh_AE_Data_Share/'\n",
        "!ls -lt '/content/gdrive/My Drive/Anagh_AE_Data_Share/' "
      ],
      "metadata": {
        "colab": {
          "base_uri": "https://localhost:8080/"
        },
        "id": "Z-Fpb1-YWqQc",
        "outputId": "90c3b40d-df5a-4ecd-e8f8-061d40a0fbef"
      },
      "execution_count": null,
      "outputs": [
        {
          "output_type": "stream",
          "name": "stdout",
          "text": [
            "total 85883\n",
            "-rw------- 1 root root 6963328 Apr  5 09:18 noisy_test_DATA_mix_1.npy\n",
            "-rw------- 1 root root 6963328 Apr  5 09:18 pure_test_DATA_mix_1.npy\n",
            "-rw------- 1 root root  139392 Apr  2 07:39 noisy_test_DATA_mix.npy\n",
            "-rw------- 1 root root  139392 Apr  2 07:39 pure_test_DATA_mix.npy\n",
            "-rw------- 1 root root  819328 Apr  1 07:01 noisy_test_DATA_5.npy\n",
            "-rw------- 1 root root  819328 Apr  1 07:01 pure_test_DATA_5.npy\n",
            "-rw------- 1 root root  819328 Mar 31 10:18 noisy_test_DATA_4.npy\n",
            "-rw------- 1 root root  819328 Mar 31 10:18 pure_test_DATA_4.npy\n",
            "-rw------- 1 root root  819328 Mar 31 10:17 noisy_test_DATA_3.npy\n",
            "-rw------- 1 root root  819328 Mar 31 10:17 pure_test_DATA_3.npy\n",
            "-rw------- 1 root root  819328 Mar 31 10:16 noisy_test_DATA_2.npy\n",
            "-rw------- 1 root root  819328 Mar 31 10:16 pure_test_DATA_2.npy\n",
            "-rw------- 1 root root  819328 Mar 31 10:15 noisy_test_DATA_1.npy\n",
            "-rw------- 1 root root  819328 Mar 31 10:15 pure_test_DATA_1.npy\n",
            "-rw------- 1 root root 8192128 Feb 24 14:13 pure_training_DATA_4.npy\n",
            "-rw------- 1 root root 8192128 Feb 22 07:08 noisy_training_DATA_4.npy\n",
            "-rw------- 1 root root 8192128 Feb 22 07:08 noisy_training_DATA_3.npy\n",
            "-rw------- 1 root root 8192128 Feb 22 07:08 pure_training_DATA_3.npy\n",
            "-rw------- 1 root root 8192128 Feb 22 07:08 noisy_training_DATA_2.npy\n",
            "-rw------- 1 root root 8192128 Feb 22 07:08 pure_training_DATA_1.npy\n",
            "-rw------- 1 root root 8192128 Feb 22 07:08 noisy_training_DATA_1.npy\n",
            "-rw------- 1 root root 8192128 Feb 22 07:08 pure_training_DATA_2.npy\n"
          ]
        }
      ]
    },
    {
      "cell_type": "code",
      "source": [
        "# FUNCTION HERE IS USED TO GENERATE ONLY PURE NOISE WAVE WHICH HAVE NO SIGNAL IN THEM\n",
        "# AS PER THE PROJECT OF BINARY CLASSIFICATION\n",
        "# 0 - PURE NOISE WAVES\n",
        "# 1 - NOISE WAVES WHICH HAVE SIGNALS IN THEM\n",
        "\n",
        "negative_samples = 2560\n",
        "negative_training_DATA = np.zeros((negative_samples, 512))\n",
        "\n",
        "def negative_save():\n",
        "  negative_dir = '/content/negative_training_DATA' # write the file name in which you need to put the data\n",
        "  np.save(negative_dir , negative_training_DATA )\n"
      ],
      "metadata": {
        "id": "xlwMfS0DGDXw"
      },
      "execution_count": null,
      "outputs": []
    },
    {
      "cell_type": "code",
      "source": [
        "def NOISE_GENERATOR(samples):\n",
        "  for i in range(samples):\n",
        "    seed =  random.randint(1, 1000)\n",
        "    noise=get_noise(psd, seed)\n",
        "    # pylab.plot(noise.sample_times, noise)\n",
        "    whiten = get_whiten (noise)\n",
        "    noise_signal = whiten.time_slice(3,3+0.25)\n",
        "    noise_signal.start_time = 0\n",
        "    noise_signal = noise_signal/ np.std(noise_signal)\n",
        "    # pylab.figure()\n",
        "    # pylab.plot(noise_signal.sample_times, noise_signal)\n",
        "    # pylab.show()\n",
        "    negative_training_DATA[i] = noise_signal\n",
        "  negative_save()\n",
        "    "
      ],
      "metadata": {
        "id": "Lwt8P6GvFVBY"
      },
      "execution_count": null,
      "outputs": []
    },
    {
      "cell_type": "code",
      "source": [
        "NOISE_GENERATOR(negative_samples)"
      ],
      "metadata": {
        "id": "KBpDgFNiGqkr"
      },
      "execution_count": null,
      "outputs": []
    },
    {
      "cell_type": "code",
      "source": [
        "# BY UNDERSTANDING THE CODE YOU CAN GENERATE ANY TYPE OF WAVE OF ANY LENGTH AND FREQUENCY\n",
        "# SHOULD WORK FOR BOTH CLASSIFICATION AND DENOISING WAVE SAMPLES GENERATION"
      ],
      "metadata": {
        "id": "WbDpAjlHlpns"
      },
      "execution_count": null,
      "outputs": []
    },
    {
      "cell_type": "code",
      "source": [
        ""
      ],
      "metadata": {
        "id": "F8uT_f3vluum"
      },
      "execution_count": null,
      "outputs": []
    }
  ]
}