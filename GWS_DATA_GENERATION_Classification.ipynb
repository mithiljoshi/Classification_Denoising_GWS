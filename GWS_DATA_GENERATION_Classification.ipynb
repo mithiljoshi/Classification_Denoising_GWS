{
  "nbformat": 4,
  "nbformat_minor": 0,
  "metadata": {
    "colab": {
      "name": "GWS DATA GENERATION.ipynb",
      "provenance": [],
      "collapsed_sections": []
    },
    "kernelspec": {
      "name": "python3",
      "display_name": "Python 3"
    },
    "language_info": {
      "name": "python"
    }
  },
  "cells": [
    {
      "cell_type": "code",
      "metadata": {
        "colab": {
          "base_uri": "https://localhost:8080/"
        },
        "id": "r--_QUPHVc_S",
        "outputId": "da90a5b2-7d09-4e38-86f5-af39505294f8"
      },
      "source": [
        "import sys\n",
        "!{sys.executable} -m pip install pycbc ligo-common --no-cache-dir"
      ],
      "execution_count": null,
      "outputs": [
        {
          "output_type": "stream",
          "name": "stdout",
          "text": [
            "Collecting pycbc\n",
            "  Downloading PyCBC-1.18.3-cp37-cp37m-manylinux2010_x86_64.whl (6.7 MB)\n",
            "\u001b[K     |████████████████████████████████| 6.7 MB 4.7 MB/s \n",
            "\u001b[?25hCollecting ligo-common\n",
            "  Downloading ligo_common-1.0.3-py2.py3-none-any.whl (2.0 kB)\n",
            "Requirement already satisfied: scipy>=0.16.0 in /usr/local/lib/python3.7/dist-packages (from pycbc) (1.4.1)\n",
            "Requirement already satisfied: requests>=1.2.1 in /usr/local/lib/python3.7/dist-packages (from pycbc) (2.23.0)\n",
            "Requirement already satisfied: h5py>=2.5 in /usr/local/lib/python3.7/dist-packages (from pycbc) (3.1.0)\n",
            "Collecting lalsuite\n",
            "  Downloading lalsuite-7.1-cp37-cp37m-manylinux_2_17_x86_64.manylinux2014_x86_64.whl (27.4 MB)\n",
            "\u001b[K     |████████████████████████████████| 27.4 MB 1.1 MB/s \n",
            "\u001b[?25hRequirement already satisfied: pillow in /usr/local/lib/python3.7/dist-packages (from pycbc) (7.1.2)\n",
            "Requirement already satisfied: tqdm in /usr/local/lib/python3.7/dist-packages (from pycbc) (4.62.3)\n",
            "Requirement already satisfied: six>=1.10.0 in /usr/local/lib/python3.7/dist-packages (from pycbc) (1.15.0)\n",
            "Requirement already satisfied: matplotlib>=1.5.1 in /usr/local/lib/python3.7/dist-packages (from pycbc) (3.2.2)\n",
            "Requirement already satisfied: jinja2 in /usr/local/lib/python3.7/dist-packages (from pycbc) (2.11.3)\n",
            "Collecting gwdatafind\n",
            "  Downloading gwdatafind-1.0.4-py2.py3-none-any.whl (38 kB)\n",
            "Collecting mpld3>=0.3\n",
            "  Downloading mpld3-0.5.7-py3-none-any.whl (201 kB)\n",
            "\u001b[K     |████████████████████████████████| 201 kB 77.9 MB/s \n",
            "\u001b[?25hRequirement already satisfied: astropy!=4.0.5,!=4.2.1,>=2.0.3 in /usr/local/lib/python3.7/dist-packages (from pycbc) (4.3.1)\n",
            "Collecting Mako>=1.0.1\n",
            "  Downloading Mako-1.1.6-py2.py3-none-any.whl (75 kB)\n",
            "\u001b[K     |████████████████████████████████| 75 kB 44.8 MB/s \n",
            "\u001b[?25hRequirement already satisfied: decorator>=3.4.2 in /usr/local/lib/python3.7/dist-packages (from pycbc) (4.4.2)\n",
            "Requirement already satisfied: numpy!=1.19.0,>=1.16.0 in /usr/local/lib/python3.7/dist-packages (from pycbc) (1.19.5)\n",
            "Collecting lscsoft-glue>=1.59.3\n",
            "  Downloading lscsoft-glue-2.0.0.tar.gz (1.6 MB)\n",
            "\u001b[K     |████████████████████████████████| 1.6 MB 28.3 MB/s \n",
            "\u001b[?25hRequirement already satisfied: beautifulsoup4>=4.6.0 in /usr/local/lib/python3.7/dist-packages (from pycbc) (4.6.3)\n",
            "Requirement already satisfied: cython>=0.29 in /usr/local/lib/python3.7/dist-packages (from pycbc) (0.29.24)\n",
            "Collecting ligo-segments\n",
            "  Downloading ligo-segments-1.4.0.tar.gz (51 kB)\n",
            "\u001b[K     |████████████████████████████████| 51 kB 56.3 MB/s \n",
            "\u001b[?25hRequirement already satisfied: importlib-metadata in /usr/local/lib/python3.7/dist-packages (from astropy!=4.0.5,!=4.2.1,>=2.0.3->pycbc) (4.8.2)\n",
            "Requirement already satisfied: pyerfa>=1.7.3 in /usr/local/lib/python3.7/dist-packages (from astropy!=4.0.5,!=4.2.1,>=2.0.3->pycbc) (2.0.0.1)\n",
            "Requirement already satisfied: cached-property in /usr/local/lib/python3.7/dist-packages (from h5py>=2.5->pycbc) (1.5.2)\n",
            "Collecting pyOpenSSL\n",
            "  Downloading pyOpenSSL-21.0.0-py2.py3-none-any.whl (55 kB)\n",
            "\u001b[K     |████████████████████████████████| 55 kB 45.0 MB/s \n",
            "\u001b[?25hRequirement already satisfied: MarkupSafe>=0.9.2 in /usr/local/lib/python3.7/dist-packages (from Mako>=1.0.1->pycbc) (2.0.1)\n",
            "Requirement already satisfied: kiwisolver>=1.0.1 in /usr/local/lib/python3.7/dist-packages (from matplotlib>=1.5.1->pycbc) (1.3.2)\n",
            "Requirement already satisfied: cycler>=0.10 in /usr/local/lib/python3.7/dist-packages (from matplotlib>=1.5.1->pycbc) (0.11.0)\n",
            "Requirement already satisfied: python-dateutil>=2.1 in /usr/local/lib/python3.7/dist-packages (from matplotlib>=1.5.1->pycbc) (2.8.2)\n",
            "Requirement already satisfied: pyparsing!=2.0.4,!=2.1.2,!=2.1.6,>=2.0.1 in /usr/local/lib/python3.7/dist-packages (from matplotlib>=1.5.1->pycbc) (3.0.6)\n",
            "Requirement already satisfied: idna<3,>=2.5 in /usr/local/lib/python3.7/dist-packages (from requests>=1.2.1->pycbc) (2.10)\n",
            "Requirement already satisfied: chardet<4,>=3.0.2 in /usr/local/lib/python3.7/dist-packages (from requests>=1.2.1->pycbc) (3.0.4)\n",
            "Requirement already satisfied: urllib3!=1.25.0,!=1.25.1,<1.26,>=1.21.1 in /usr/local/lib/python3.7/dist-packages (from requests>=1.2.1->pycbc) (1.24.3)\n",
            "Requirement already satisfied: certifi>=2017.4.17 in /usr/local/lib/python3.7/dist-packages (from requests>=1.2.1->pycbc) (2021.10.8)\n",
            "Requirement already satisfied: typing-extensions>=3.6.4 in /usr/local/lib/python3.7/dist-packages (from importlib-metadata->astropy!=4.0.5,!=4.2.1,>=2.0.3->pycbc) (3.10.0.2)\n",
            "Requirement already satisfied: zipp>=0.5 in /usr/local/lib/python3.7/dist-packages (from importlib-metadata->astropy!=4.0.5,!=4.2.1,>=2.0.3->pycbc) (3.6.0)\n",
            "Collecting cryptography>=3.3\n",
            "  Downloading cryptography-36.0.0-cp36-abi3-manylinux_2_24_x86_64.whl (3.6 MB)\n",
            "\u001b[K     |████████████████████████████████| 3.6 MB 49.5 MB/s \n",
            "\u001b[?25hRequirement already satisfied: cffi>=1.12 in /usr/local/lib/python3.7/dist-packages (from cryptography>=3.3->pyOpenSSL->lscsoft-glue>=1.59.3->pycbc) (1.15.0)\n",
            "Requirement already satisfied: pycparser in /usr/local/lib/python3.7/dist-packages (from cffi>=1.12->cryptography>=3.3->pyOpenSSL->lscsoft-glue>=1.59.3->pycbc) (2.21)\n",
            "Building wheels for collected packages: lscsoft-glue, ligo-segments\n",
            "  Building wheel for lscsoft-glue (setup.py) ... \u001b[?25l\u001b[?25hdone\n",
            "  Created wheel for lscsoft-glue: filename=lscsoft_glue-2.0.0-cp37-cp37m-linux_x86_64.whl size=416860 sha256=4a29dce6ee230d3a6ce40efbc6b7ddfbbdccde4304309e83cddbdd1a787b217f\n",
            "  Stored in directory: /tmp/pip-ephem-wheel-cache-e4b52btg/wheels/9d/ed/9e/1f9cad5e15359dc17954b893dd486760b5cb1ffd97a8405d1e\n",
            "  Building wheel for ligo-segments (setup.py) ... \u001b[?25l\u001b[?25hdone\n",
            "  Created wheel for ligo-segments: filename=ligo_segments-1.4.0-cp37-cp37m-linux_x86_64.whl size=86664 sha256=08d53db5c4255b9733269b5dbd040699f198a4dfc2191c006d2cfe38f764072d\n",
            "  Stored in directory: /tmp/pip-ephem-wheel-cache-e4b52btg/wheels/09/f9/d4/129b3bb4458d50b56fdc8245ace7c8216d54865fe8d3aebc05\n",
            "Successfully built lscsoft-glue ligo-segments\n",
            "Installing collected packages: cryptography, pyOpenSSL, ligo-segments, lscsoft-glue, mpld3, Mako, lalsuite, gwdatafind, pycbc, ligo-common\n",
            "Successfully installed Mako-1.1.6 cryptography-36.0.0 gwdatafind-1.0.4 lalsuite-7.1 ligo-common-1.0.3 ligo-segments-1.4.0 lscsoft-glue-2.0.0 mpld3-0.5.7 pyOpenSSL-21.0.0 pycbc-1.18.3\n"
          ]
        }
      ]
    },
    {
      "cell_type": "code",
      "metadata": {
        "id": "WBhFBQsJVv_h"
      },
      "source": [
        "import numpy as np\n",
        "import math\n",
        "import pylab\n",
        "\n",
        "import matplotlib.pyplot as plt\n",
        "import random\n",
        "import pycbc\n",
        "from pycbc import distributions\n",
        "from pycbc.waveform import get_td_waveform\n",
        "from pycbc.detector import Detector\n",
        "import pycbc.coordinates as co\n",
        "from pycbc.psd import welch, interpolate\n",
        "from pycbc.psd import interpolate, inverse_spectrum_truncation\n",
        "from pycbc.noise.gaussian import noise_from_psd\n",
        "from pycbc.noise.gaussian import frequency_noise_from_psd\n",
        "from pycbc.filter import matched_filter\n",
        "\n",
        "det_l1 = Detector('L1')\n",
        "apx = 'IMRPhenomD'\n",
        "N=2048*16  #N is number of samples, N=length/delta_t\n",
        "fs=2048 #fs is sampling frequnecy\n",
        "length=16 #duration of segment\n",
        "delta_f=1.0/16\n",
        "f_samples = 16385\n",
        "f_lower=30\n",
        "delta_t=1.0/2048\n",
        "\n",
        "# N=2048*16.0  #N is number of samples, N=length/delta_t\n",
        "# print(N)\n",
        "# fs=2048.0 #fs is sampling frequnecy\n",
        "# print(fs)\n",
        "# length=16 #duration of segment\n",
        "# print(length)\n",
        "# delta_f=fs/N\n",
        "# print(delta_f)\n",
        "# f_samples = int(N/2+ 1)\n",
        "# print(f_samples)\n",
        "# f_lower=40\n",
        "# print(f_lower)\n",
        "# delta_t=1.0/2048\n",
        "# print(delta_t)"
      ],
      "execution_count": null,
      "outputs": []
    },
    {
      "cell_type": "code",
      "metadata": {
        "id": "IUMSOsmSVwcI"
      },
      "source": [
        "from pycbc.psd.analytical import AdVDesignSensitivityP1200087\n",
        "\n",
        "def get_psd(f_samples, delta_f, low_freq_cutoff):\n",
        "    psd=AdVDesignSensitivityP1200087(f_samples, delta_f, low_freq_cutoff)\n",
        "    return psd\n",
        "\n",
        "from pycbc.noise.gaussian import frequency_noise_from_psd\n",
        "\n",
        "def get_noise(psd, seed=None):\n",
        "    noise=frequency_noise_from_psd(psd, seed=seed)\n",
        "    noise_time = noise.to_timeseries()\n",
        "    return noise_time\n",
        "\n",
        "def add_noise_signal(noise, signal):\n",
        "    length_signal = len(signal)\n",
        "    signal_plus_noise=noise\n",
        "    signal_plus_noise[0:length_signal]=np.add(noise[0:length_signal], signal)\n",
        "    return signal_plus_noise\n",
        "\n",
        "\n",
        "from pycbc.psd import welch, interpolate\n",
        "\n",
        "def get_whiten(signal_plus_noise):\n",
        "    signal_freq_series=signal_plus_noise.to_frequencyseries()\n",
        "    numerator = signal_freq_series\n",
        "    psd_to_whiten = interpolate(welch(signal_plus_noise), 1.0 / signal_plus_noise.duration)\n",
        "    denominator=np.sqrt(psd_to_whiten)\n",
        "    whiten_freq = (numerator / denominator)\n",
        "    whiten=whiten_freq.to_timeseries().highpass_fir(30., 512).lowpass_fir(300.0, 512)\n",
        "    return whiten\n",
        "\n",
        "def get_8s(whiten, signal_peak_index=None):\n",
        "    whiten.start_time = 0\n",
        "    cropped = whiten.time_slice(0,8)\n",
        "    return cropped\n",
        "\n",
        "psd=get_psd(f_samples, delta_f, f_lower)\n",
        "\n",
        "def DISTRIBUTIONS(low, high, samples):\n",
        "    var_dist = distributions.Uniform(var = (low, high))\n",
        "    return var_dist.rvs(size = samples)\n",
        "\n",
        "def SPIN_DISTRIBUTIONS(samples):\n",
        "    theta_low = 0.\n",
        "    theta_high = 1.\n",
        "    phi_low = 0.\n",
        "    phi_high = 2.\n",
        "    uniform_solid_angle_distribution = distributions.UniformSolidAngle(polar_bounds=(theta_low,theta_high),\n",
        "                                              azimuthal_bounds=(phi_low,phi_high))\n",
        "    solid_angle_samples = uniform_solid_angle_distribution.rvs(size=samples)\n",
        "    spin_mag = np.ndarray(shape=(samples), dtype=float)\n",
        "    for i in range(0,samples):\n",
        "        spin_mag[i] = 1.\n",
        "    spinx, spiny, spinz = co.spherical_to_cartesian(spin_mag,solid_angle_samples['phi'],solid_angle_samples['theta'])\n",
        "    return spinz"
      ],
      "execution_count": null,
      "outputs": []
    },
    {
      "cell_type": "code",
      "metadata": {
        "id": "tIsrMOcxwg8w"
      },
      "source": [
        "def get_params(samples):\n",
        "    mass1_samples = DISTRIBUTIONS(10, 80, samples)\n",
        "    mass2_samples = DISTRIBUTIONS(10, 80, samples)\n",
        "    right_ascension_samples  = DISTRIBUTIONS(0 , 2*math.pi, samples)\n",
        "    polarization_samples = DISTRIBUTIONS(0 , 2*math.pi, samples)\n",
        "    declination_samples = DISTRIBUTIONS((-math.pi/2)+0.0001, (math.pi/2)-0.0001, samples)\n",
        "    spinz1 = SPIN_DISTRIBUTIONS(samples)\n",
        "    spinz2 = SPIN_DISTRIBUTIONS(samples)\n",
        "    snr_req = DISTRIBUTIONS(2, 17, samples)\n",
        "    DIST = DISTRIBUTIONS(2500, 3000, samples)\n",
        "    return mass1_samples, mass2_samples, right_ascension_samples, polarization_samples, declination_samples, spinz1, spinz2, snr_req, DIST"
      ],
      "execution_count": null,
      "outputs": []
    },
    {
      "cell_type": "code",
      "metadata": {
        "id": "Bg1EFOuoVwyJ"
      },
      "source": [
        "def DATA_GENERATION(samples):\n",
        "\n",
        "  mass1_samples, mass2_samples, right_ascension_samples, polarization_samples, declination_samples, spinz1, spinz2, snr_req, DIST = get_params(samples)\n",
        "  for i in range(0,samples):\n",
        "        seed =  random.randint(1, 256)\n",
        "        # NOTE: Inclination runs from 0 to pi, with poles at 0 and pi\n",
        "        #       coa_phase runs from 0 to 2 pi.\n",
        "        try:\n",
        "          hp, hc = get_td_waveform(approximant=apx,\n",
        "                                  mass1=mass1_samples[i][0],\n",
        "                                  mass2=mass2_samples[i][0],\n",
        "                                  spin1z=spinz1[i],\n",
        "                                  spin2z=spinz2[i],\n",
        "                                  delta_t=delta_t,\n",
        "                                  distance = DIST[i][0],\n",
        "                                  f_lower=40)\n",
        "        except:\n",
        "          try:\n",
        "            hp, hc = get_td_waveform(approximant=apx,\n",
        "                          mass1=mass1_samples[i][0],\n",
        "                          mass2=mass2_samples[i][0],\n",
        "                          spin1z=spinz1[i],\n",
        "                          spin2z=spinz2[i],\n",
        "                          delta_t=delta_t,\n",
        "                          distance = DIST[i][0],\n",
        "                          f_lower=50)\n",
        "          except RuntimeError:\n",
        "            hp, hc = get_td_waveform(approximant=apx,\n",
        "                                  mass1=mass1_samples[i][0],\n",
        "                                  mass2=mass2_samples[i][0],\n",
        "                                  spin1z=spinz1[i],\n",
        "                                  spin2z=spinz2[i],\n",
        "                                  delta_t=delta_t*2,\n",
        "                                  distance = DIST[i][0],\n",
        "                                  f_lower=40)\n",
        "             \n",
        "\n",
        "        signal_l1 = det_l1.project_wave(hp, hc,  right_ascension_samples[i][0], declination_samples[i][0], polarization_samples[i][0])\n",
        "        signal_l1.append_zeros(10*2048)\n",
        "        signal_l1 = signal_l1.cyclic_time_shift(5)\n",
        "        signal_l1.start_time = 0 \n",
        "\n",
        "        noise=get_noise(psd)\n",
        "        final = add_noise_signal(noise, signal_l1)\n",
        "\n",
        "        hps=signal_l1\n",
        "        conditioned=final\n",
        "        hps.resize(len(conditioned))\n",
        "        template = hps.cyclic_time_shift(hps.start_time)\n",
        "        psd_whiten=interpolate(welch(conditioned), 1.0 / conditioned.duration)\n",
        "        snr = matched_filter(template, conditioned, psd=psd_whiten, low_frequency_cutoff=40, sigmasq = 1)\n",
        "        peak = abs(snr).numpy().argmax()\n",
        "        snrp = snr[peak]\n",
        "        time = snr.sample_times[peak]\n",
        "\n",
        "        signal_l1_scaled = signal_l1*snr_req[i][0] / abs(snrp) \n",
        "\n",
        "\n",
        "        final_scaled = add_noise_signal(noise, signal_l1_scaled)\n",
        "\n",
        "\n",
        "        whiten = get_whiten (final_scaled)\n",
        "\n",
        "\n",
        "        data = get_8s(whiten)\n",
        "\n",
        "        my_dir = '/content/Positive Test DATA/' # write the file name in which you need to put the data\n",
        "        name = 111000000+i+1\n",
        "        np.save(my_dir + str(name), data)\n"
      ],
      "execution_count": null,
      "outputs": []
    },
    {
      "cell_type": "code",
      "metadata": {
        "id": "wFeaqXT7VxD3"
      },
      "source": [
        "\n",
        "DATA_GENERATION(12288)"
      ],
      "execution_count": null,
      "outputs": []
    },
    {
      "cell_type": "code",
      "metadata": {
        "id": "aySSSNmZVxd4",
        "colab": {
          "base_uri": "https://localhost:8080/",
          "height": 35
        },
        "outputId": "b69a534a-ab7a-4c8e-b5b1-ab24489dd091"
      },
      "source": [
        "import shutil\n",
        "shutil.make_archive('/content/Positive_Test_DATA', 'zip', 'Positive Test DATA')"
      ],
      "execution_count": null,
      "outputs": [
        {
          "output_type": "execute_result",
          "data": {
            "application/vnd.google.colaboratory.intrinsic+json": {
              "type": "string"
            },
            "text/plain": [
              "'/content/Positive_Test_DATA.zip'"
            ]
          },
          "metadata": {},
          "execution_count": 25
        }
      ]
    },
    {
      "cell_type": "code",
      "metadata": {
        "colab": {
          "base_uri": "https://localhost:8080/"
        },
        "id": "0TDqXOjn3h5T",
        "outputId": "42f6acc5-a05d-42a4-f693-0a1fd6daec3a"
      },
      "source": [
        "from google.colab import drive\n",
        "drive.mount('/content/gdrive',force_remount=True)"
      ],
      "execution_count": null,
      "outputs": [
        {
          "output_type": "stream",
          "name": "stdout",
          "text": [
            "Mounted at /content/gdrive\n"
          ]
        }
      ]
    },
    {
      "cell_type": "code",
      "metadata": {
        "colab": {
          "base_uri": "https://localhost:8080/"
        },
        "id": "lrrRPRwv3jTQ",
        "outputId": "8e88e89f-4b56-457d-f426-039cda579b97"
      },
      "source": [
        "!cp Positive_Test_DATA.zip '/content/gdrive/My Drive/'\n",
        "!ls -lt '/content/gdrive/My Drive/' "
      ],
      "execution_count": null,
      "outputs": [
        {
          "output_type": "stream",
          "name": "stdout",
          "text": [
            "total 4805593\n",
            "-rw------- 1 root root 1551385800 Dec  8 07:42  Positive_Test_DATA.zip\n",
            "-rw------- 1 root root  387844632 Dec  8 07:20  Positive_Validation_DATA.zip\n",
            "-rw------- 1 root root 1767534968 Dec  8 07:12  Positive_Training_DATA_2.zip\n",
            "-rw------- 1 root root        151 Dec  7 17:51  FYP_GW_Project.gslides\n",
            "-rw------- 1 root root  985257010 Dec  7 08:15  Positive_Training_DATA_1.zip\n",
            "-rw------- 1 root root     157019 Dec  6 11:29 'Project Stage.docx'\n",
            "-rw------- 1 root root  228727431 Dec  6 08:33  Positive_Training_DATA.zip\n",
            "drwx------ 2 root root       4096 Nov 30 14:27 'Colab Notebooks'\n",
            "-rw------- 1 root root        151 Sep 16 06:57  E-Governance.gslides\n",
            "-rw------- 1 root root        151 Jul  9 15:33  Ajinkya_Kanse_192080011.gslides\n",
            "drwx------ 2 root root       4096 Jul  6 14:12 'Links & Resources'\n",
            "drwx------ 2 root root       4096 Jul  6 10:20  PAPERS\n",
            "drwx------ 2 root root       4096 Jun 28 06:48  Books\n"
          ]
        }
      ]
    },
    {
      "cell_type": "code",
      "metadata": {
        "colab": {
          "base_uri": "https://localhost:8080/"
        },
        "id": "oPmBpV8VYD0P",
        "outputId": "864b0ad8-03a0-4453-92af-82aad3bda6c8"
      },
      "source": [
        "# N=2048*16  #N is number of samples, N=length/delta_t\n",
        "# print(N)\n",
        "# fs=2048.0 #fs is sampling frequnecy\n",
        "# print(fs)\n",
        "# length=16 #duration of segment\n",
        "# print(length)\n",
        "# delta_f=fs/N\n",
        "# print(delta_f)\n",
        "# f_samples = int(N/2+ 1)\n",
        "# print(f_samples)\n",
        "# f_lower=30\n",
        "# print(f_lower)\n",
        "# delta_t=1.0/2048\n",
        "# print(delta_t)"
      ],
      "execution_count": null,
      "outputs": [
        {
          "output_type": "stream",
          "name": "stdout",
          "text": [
            "32768\n",
            "2048.0\n",
            "16\n",
            "0.0625\n",
            "16385\n",
            "30\n",
            "0.00048828125\n"
          ]
        }
      ]
    }
  ]
}